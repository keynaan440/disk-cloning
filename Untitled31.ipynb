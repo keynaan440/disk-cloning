{
  "nbformat": 4,
  "nbformat_minor": 0,
  "metadata": {
    "colab": {
      "provenance": [],
      "authorship_tag": "ABX9TyPQoGNqvVOV4PVrhf4GvWGu",
      "include_colab_link": true
    },
    "kernelspec": {
      "name": "python3",
      "display_name": "Python 3"
    },
    "language_info": {
      "name": "python"
    }
  },
  "cells": [
    {
      "cell_type": "markdown",
      "metadata": {
        "id": "view-in-github",
        "colab_type": "text"
      },
      "source": [
        "<a href=\"https://colab.research.google.com/github/keynaan440/disk-cloning/blob/main/Untitled31.ipynb\" target=\"_parent\"><img src=\"https://colab.research.google.com/assets/colab-badge.svg\" alt=\"Open In Colab\"/></a>"
      ]
    },
    {
      "cell_type": "code",
      "execution_count": 3,
      "metadata": {
        "colab": {
          "base_uri": "https://localhost:8080/"
        },
        "id": "BHkydHs_Rn84",
        "outputId": "4333f503-c97d-4d80-fced-fa5cc6d3fe72"
      },
      "outputs": [
        {
          "output_type": "stream",
          "name": "stdout",
          "text": [
            "5\n"
          ]
        }
      ],
      "source": [
        " #length fuction in python\n",
        "students = [\"abdiasiis\", \"keynaan\", \"ali\", \"farah\", \"shamso\"]\n",
        "print(len(students))\n"
      ]
    },
    {
      "cell_type": "code",
      "source": [
        " #min fuction in python\n",
        "numbers= [10, 20, 30, 40, 5, 50]\n",
        "print(min( numbers))"
      ],
      "metadata": {
        "colab": {
          "base_uri": "https://localhost:8080/"
        },
        "id": "Iw-ZrvT8Zlb_",
        "outputId": "98e08fd7-b647-4c24-97b7-73ec5d80f4f0"
      },
      "execution_count": 6,
      "outputs": [
        {
          "output_type": "stream",
          "name": "stdout",
          "text": [
            "5\n"
          ]
        }
      ]
    },
    {
      "cell_type": "code",
      "source": [
        " #max fuction in python\n",
        "numbers= [10, 20, 30, 40, 5, 50]\n",
        "print(max( numbers))"
      ],
      "metadata": {
        "colab": {
          "base_uri": "https://localhost:8080/"
        },
        "id": "Cj8lvbnAaIW5",
        "outputId": "1f4fb3fa-d789-496b-ed0e-a6405d66cc53"
      },
      "execution_count": 7,
      "outputs": [
        {
          "output_type": "stream",
          "name": "stdout",
          "text": [
            "50\n"
          ]
        }
      ]
    }
  ]
}