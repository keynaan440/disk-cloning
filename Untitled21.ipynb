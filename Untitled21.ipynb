{
  "nbformat": 4,
  "nbformat_minor": 0,
  "metadata": {
    "colab": {
      "provenance": [],
      "authorship_tag": "ABX9TyMc7n/6oPA9EqppoIvPAAXo",
      "include_colab_link": true
    },
    "kernelspec": {
      "name": "python3",
      "display_name": "Python 3"
    },
    "language_info": {
      "name": "python"
    }
  },
  "cells": [
    {
      "cell_type": "markdown",
      "metadata": {
        "id": "view-in-github",
        "colab_type": "text"
      },
      "source": [
        "<a href=\"https://colab.research.google.com/github/keynaan440/disk-cloning/blob/main/Untitled21.ipynb\" target=\"_parent\"><img src=\"https://colab.research.google.com/assets/colab-badge.svg\" alt=\"Open In Colab\"/></a>"
      ]
    },
    {
      "cell_type": "code",
      "execution_count": 5,
      "metadata": {
        "colab": {
          "base_uri": "https://localhost:8080/"
        },
        "id": "Md7BxX6N8HgJ",
        "outputId": "d73a94c8-6763-44b5-eafc-65eab99f6435"
      },
      "outputs": [
        {
          "output_type": "stream",
          "name": "stdout",
          "text": [
            "keynaan abdi mohamed\n",
            "keynaan abdi mohamed\n",
            "keynaan abdi mohamed\n",
            "keynaan abdi mohamed\n",
            "keynaan abdi mohamed\n",
            "keynaan abdi mohamed\n",
            "keynaan abdi mohamed\n",
            "keynaan abdi mohamed\n",
            "keynaan abdi mohamed\n",
            "keynaan abdi mohamed\n",
            "keynaan abdi mohamed\n"
          ]
        }
      ],
      "source": [
        "x = 10\n",
        "while x <= 20:\n",
        "  print(\"keynaan abdi mohamed\")\n",
        "  x += 1"
      ]
    }
  ]
}