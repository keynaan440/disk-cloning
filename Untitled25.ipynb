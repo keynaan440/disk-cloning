{
  "nbformat": 4,
  "nbformat_minor": 0,
  "metadata": {
    "colab": {
      "provenance": [],
      "authorship_tag": "ABX9TyOaqwkBf3gEQRlAtF5k/vY4",
      "include_colab_link": true
    },
    "kernelspec": {
      "name": "python3",
      "display_name": "Python 3"
    },
    "language_info": {
      "name": "python"
    }
  },
  "cells": [
    {
      "cell_type": "markdown",
      "metadata": {
        "id": "view-in-github",
        "colab_type": "text"
      },
      "source": [
        "<a href=\"https://colab.research.google.com/github/keynaan440/disk-cloning/blob/main/Untitled25.ipynb\" target=\"_parent\"><img src=\"https://colab.research.google.com/assets/colab-badge.svg\" alt=\"Open In Colab\"/></a>"
      ]
    },
    {
      "cell_type": "code",
      "execution_count": 1,
      "metadata": {
        "colab": {
          "base_uri": "https://localhost:8080/"
        },
        "id": "laMwZgpxoCpz",
        "outputId": "b95d7d1b-2a88-4b2d-f6ce-6f04228630fa"
      },
      "outputs": [
        {
          "output_type": "stream",
          "name": "stdout",
          "text": [
            "['somalia', 'uganda', 'kenya', 'ethopia', 'jabuuti', 'tansania', 'burindi']\n"
          ]
        }
      ],
      "source": [
        "countries = [\"somalia\", \"uganda\", \"kenya\", \"ethopia\", \"jabuuti\", \"tansania\", \"burindi\"]\n",
        "print(countries)"
      ]
    },
    {
      "cell_type": "code",
      "source": [
        "countries = [\"somalia\", \"uganda\", \"kenya\", \"ethopia\", \"jabuuti\", \"tansania\", \"burindi\"]\n",
        "print(countries[0])"
      ],
      "metadata": {
        "colab": {
          "base_uri": "https://localhost:8080/"
        },
        "id": "9484ijqqovCa",
        "outputId": "9e7f09e4-ff47-41a8-f421-091fbfa4bbac"
      },
      "execution_count": 2,
      "outputs": [
        {
          "output_type": "stream",
          "name": "stdout",
          "text": [
            "somalia\n"
          ]
        }
      ]
    },
    {
      "cell_type": "code",
      "source": [
        "countries = [\"somalia\", \"uganda\", \"kenya\", \"ethopia\", \"jabuuti\", \"tansania\", \"burindi\"]\n",
        "print(len(countries))"
      ],
      "metadata": {
        "colab": {
          "base_uri": "https://localhost:8080/"
        },
        "id": "Mzz0ve1ao1jZ",
        "outputId": "98bb2993-e3f9-45d2-a0fe-cbc36ae87143"
      },
      "execution_count": 3,
      "outputs": [
        {
          "output_type": "stream",
          "name": "stdout",
          "text": [
            "7\n"
          ]
        }
      ]
    }
  ]
}