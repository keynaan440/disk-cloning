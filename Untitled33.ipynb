{
  "nbformat": 4,
  "nbformat_minor": 0,
  "metadata": {
    "colab": {
      "provenance": [],
      "authorship_tag": "ABX9TyMWrF95crulh6M9SKGnaWU/",
      "include_colab_link": true
    },
    "kernelspec": {
      "name": "python3",
      "display_name": "Python 3"
    },
    "language_info": {
      "name": "python"
    }
  },
  "cells": [
    {
      "cell_type": "markdown",
      "metadata": {
        "id": "view-in-github",
        "colab_type": "text"
      },
      "source": [
        "<a href=\"https://colab.research.google.com/github/keynaan440/disk-cloning/blob/main/Untitled33.ipynb\" target=\"_parent\"><img src=\"https://colab.research.google.com/assets/colab-badge.svg\" alt=\"Open In Colab\"/></a>"
      ]
    },
    {
      "cell_type": "code",
      "execution_count": 5,
      "metadata": {
        "colab": {
          "base_uri": "https://localhost:8080/"
        },
        "id": "otOBWZ_43mw1",
        "outputId": "23f7088e-bd9c-48bb-a43f-cea9e174fcd5"
      },
      "outputs": [
        {
          "output_type": "stream",
          "name": "stdout",
          "text": [
            "('keynaan', 22, 9.1, True)\n",
            "('0758836583', '07583456583', '0758836453 ', '0758899583', '0758838883', '0758839983')\n"
          ]
        }
      ],
      "source": [
        "# tuple fuction in python==========turple its unchageble\n",
        "phone_numbers = (\"0758836583\",  \"07583456583\", \"0758836453 \", \"0758899583\", \"0758838883\", \"0758839983\")\n",
        "students = (\"keynaan\", 22, 9.1, True)\n",
        "print(students)\n",
        "print(phone_numbers)"
      ]
    },
    {
      "cell_type": "code",
      "source": [
        "#paramters in tuple()\n",
        "# +, *, in\n",
        "#paramters \"+\"in tuple()\n",
        "cars = (\"markid\",\"raaxo\", \"booyad\")\n",
        "speeds = (100, 200, 300)\n",
        "final = cars + speeds\n",
        "print(final)\n"
      ],
      "metadata": {
        "colab": {
          "base_uri": "https://localhost:8080/"
        },
        "id": "r76XI_dH-nbd",
        "outputId": "964118ba-01a3-4829-fa8e-b7965a1653f5"
      },
      "execution_count": 6,
      "outputs": [
        {
          "output_type": "stream",
          "name": "stdout",
          "text": [
            "('markid', 'raaxo', 'booyad', 100, 200, 300)\n"
          ]
        }
      ]
    },
    {
      "cell_type": "code",
      "source": [
        "#paramters \"*\"in tuple()\n",
        "cars = (\"markid\",\"raaxo\", \"booyad\")*3\n",
        "print(cars)\n",
        "\n"
      ],
      "metadata": {
        "colab": {
          "base_uri": "https://localhost:8080/"
        },
        "id": "4xhbsOfv_wAu",
        "outputId": "e595435b-28f8-4251-b976-f535773d2357"
      },
      "execution_count": 10,
      "outputs": [
        {
          "output_type": "stream",
          "name": "stdout",
          "text": [
            "('markid', 'raaxo', 'booyad', 'markid', 'raaxo', 'booyad', 'markid', 'raaxo', 'booyad')\n"
          ]
        }
      ]
    },
    {
      "cell_type": "code",
      "source": [
        "#paramters \"in\"in tuple()\n",
        "names = (\"keynaan\", \"suldaan\", \"hafsa\")\n",
        "print(\"keynaan\" in names)\n",
        "print(\"xamsa\" in names)"
      ],
      "metadata": {
        "colab": {
          "base_uri": "https://localhost:8080/"
        },
        "id": "7bRkdu77AcPv",
        "outputId": "e47aeb6a-22aa-4744-affa-4f8d2ec804e2"
      },
      "execution_count": 12,
      "outputs": [
        {
          "output_type": "stream",
          "name": "stdout",
          "text": [
            "True\n",
            "False\n"
          ]
        }
      ]
    }
  ]
}