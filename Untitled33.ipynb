{
  "nbformat": 4,
  "nbformat_minor": 0,
  "metadata": {
    "colab": {
      "provenance": [],
      "authorship_tag": "ABX9TyOZ4+hgYNCuo/km5rSU3x9m",
      "include_colab_link": true
    },
    "kernelspec": {
      "name": "python3",
      "display_name": "Python 3"
    },
    "language_info": {
      "name": "python"
    }
  },
  "cells": [
    {
      "cell_type": "markdown",
      "metadata": {
        "id": "view-in-github",
        "colab_type": "text"
      },
      "source": [
        "<a href=\"https://colab.research.google.com/github/keynaan440/disk-cloning/blob/main/Untitled33.ipynb\" target=\"_parent\"><img src=\"https://colab.research.google.com/assets/colab-badge.svg\" alt=\"Open In Colab\"/></a>"
      ]
    },
    {
      "cell_type": "code",
      "execution_count": 5,
      "metadata": {
        "colab": {
          "base_uri": "https://localhost:8080/"
        },
        "id": "otOBWZ_43mw1",
        "outputId": "23f7088e-bd9c-48bb-a43f-cea9e174fcd5"
      },
      "outputs": [
        {
          "output_type": "stream",
          "name": "stdout",
          "text": [
            "('keynaan', 22, 9.1, True)\n",
            "('0758836583', '07583456583', '0758836453 ', '0758899583', '0758838883', '0758839983')\n"
          ]
        }
      ],
      "source": [
        "# tuple fuction in python==========turple its unchageble\n",
        "phone_numbers = (\"0758836583\",  \"07583456583\", \"0758836453 \", \"0758899583\", \"0758838883\", \"0758839983\")\n",
        "students = (\"keynaan\", 22, 9.1, True)\n",
        "print(students)\n",
        "print(phone_numbers)"
      ]
    }
  ]
}