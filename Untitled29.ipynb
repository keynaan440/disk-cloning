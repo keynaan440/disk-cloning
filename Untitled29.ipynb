{
  "nbformat": 4,
  "nbformat_minor": 0,
  "metadata": {
    "colab": {
      "provenance": [],
      "authorship_tag": "ABX9TyNUpAT6lRqsoN2xqogFsGp8",
      "include_colab_link": true
    },
    "kernelspec": {
      "name": "python3",
      "display_name": "Python 3"
    },
    "language_info": {
      "name": "python"
    }
  },
  "cells": [
    {
      "cell_type": "markdown",
      "metadata": {
        "id": "view-in-github",
        "colab_type": "text"
      },
      "source": [
        "<a href=\"https://colab.research.google.com/github/keynaan440/disk-cloning/blob/main/Untitled29.ipynb\" target=\"_parent\"><img src=\"https://colab.research.google.com/assets/colab-badge.svg\" alt=\"Open In Colab\"/></a>"
      ]
    },
    {
      "cell_type": "code",
      "execution_count": 2,
      "metadata": {
        "colab": {
          "base_uri": "https://localhost:8080/"
        },
        "id": "0g0J4S1H_nRo",
        "outputId": "97d46060-862e-4a6c-fac7-40ed13a060a0"
      },
      "outputs": [
        {
          "output_type": "stream",
          "name": "stdout",
          "text": [
            "['keynaan', 'abdi', 'moamed']\n"
          ]
        }
      ],
      "source": [
        "#changing a item value,\n",
        "students = [\"keynaan\",\"abdi\",\"ahmed\"]\n",
        "students[2] = \"moamed\"\n",
        "print(students)"
      ]
    },
    {
      "cell_type": "code",
      "source": [
        "#change a range of values\n",
        "names = [\"qaali\",\"saleeban\",\"ali\",\"faarah\",\"abdi\"]\n",
        "names[1:4] = \"safiyo\", \"ruqiyo\", \"amino\", \"saynab\"\n",
        "print(names)"
      ],
      "metadata": {
        "colab": {
          "base_uri": "https://localhost:8080/"
        },
        "id": "nyUafOMsBOGL",
        "outputId": "f1c3e4c1-eec4-42c0-955f-e2f1a2e6a856"
      },
      "execution_count": 4,
      "outputs": [
        {
          "output_type": "stream",
          "name": "stdout",
          "text": [
            "['qaali', 'safiyo', 'ruqiyo', 'amino', 'saynab', 'abdi']\n"
          ]
        }
      ]
    },
    {
      "cell_type": "code",
      "source": [
        "#delete a item\n",
        "empoloyee = [\"qaali\",\"saleeban\",\"ali\",\"faarah\",\"abdi\"]\n",
        "empoloyee.remove(\"qaali\")\n",
        "print(empoloyee)\n"
      ],
      "metadata": {
        "colab": {
          "base_uri": "https://localhost:8080/"
        },
        "id": "4rjVtdjbCjK_",
        "outputId": "0237d135-bf6f-4620-a2e3-6b103d31bc17"
      },
      "execution_count": 6,
      "outputs": [
        {
          "output_type": "stream",
          "name": "stdout",
          "text": [
            "['saleeban', 'ali', 'faarah', 'abdi']\n"
          ]
        }
      ]
    },
    {
      "cell_type": "code",
      "source": [
        "#delete a item\n",
        "empoloyee = [\"qaali\",\"saleeban\",\"ali\",\"faarah\",\"abdi\"]\n",
        "empoloyee.pop(0)\n",
        "print(empoloyee)\n"
      ],
      "metadata": {
        "colab": {
          "base_uri": "https://localhost:8080/"
        },
        "id": "Jrq_9BjBDjXv",
        "outputId": "8bb7187e-b275-485a-be0a-f31d3ee510ea"
      },
      "execution_count": 7,
      "outputs": [
        {
          "output_type": "stream",
          "name": "stdout",
          "text": [
            "['saleeban', 'ali', 'faarah', 'abdi']\n"
          ]
        }
      ]
    },
    {
      "cell_type": "code",
      "source": [
        "#delete all item\n",
        "students = [\"qaali\", \"saleeban\", \"ali\", \"faarah\", \"abdi\"]\n",
        "students.clear() #This clears the contents of the list but keeps the list itself.\n",
        "print(students)   # This will print an empty list: []\n"
      ],
      "metadata": {
        "colab": {
          "base_uri": "https://localhost:8080/"
        },
        "id": "S4L-_IzRDs-y",
        "outputId": "60fb5448-57d2-4ba2-eba0-d827eecd7edd"
      },
      "execution_count": 21,
      "outputs": [
        {
          "output_type": "stream",
          "name": "stdout",
          "text": [
            "[]\n"
          ]
        }
      ]
    }
  ]
}