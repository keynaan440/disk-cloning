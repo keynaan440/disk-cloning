{
  "nbformat": 4,
  "nbformat_minor": 0,
  "metadata": {
    "colab": {
      "provenance": [],
      "authorship_tag": "ABX9TyMI9lHZQRowoLPu5+7M+rsN",
      "include_colab_link": true
    },
    "kernelspec": {
      "name": "python3",
      "display_name": "Python 3"
    },
    "language_info": {
      "name": "python"
    }
  },
  "cells": [
    {
      "cell_type": "markdown",
      "metadata": {
        "id": "view-in-github",
        "colab_type": "text"
      },
      "source": [
        "<a href=\"https://colab.research.google.com/github/keynaan440/disk-cloning/blob/main/Untitled37.ipynb\" target=\"_parent\"><img src=\"https://colab.research.google.com/assets/colab-badge.svg\" alt=\"Open In Colab\"/></a>"
      ]
    },
    {
      "cell_type": "code",
      "execution_count": 4,
      "metadata": {
        "colab": {
          "base_uri": "https://localhost:8080/"
        },
        "id": "tW5r5NI4k7Ft",
        "outputId": "9c2ca9ba-8b0e-4b79-ed86-ea022f57e389"
      },
      "outputs": [
        {
          "output_type": "stream",
          "name": "stdout",
          "text": [
            "True\n"
          ]
        }
      ],
      "source": [
        "#most common string in python(isalpha, isdigi, isalnum, isidentifier, islower, isupper, isprintiple, istitle, isspace)\n",
        "\n",
        "\n",
        "#isalpha  most common string in python\n",
        "name = \"keynaan\"\n",
        "print(name.isalpha())\n"
      ]
    },
    {
      "cell_type": "code",
      "source": [
        "#isdigit  most common string in python\n",
        "numbers = '200'\n",
        "print(numbers.isdigit())"
      ],
      "metadata": {
        "colab": {
          "base_uri": "https://localhost:8080/"
        },
        "id": "7RgHC4N_l6Xf",
        "outputId": "8c3e9158-d81b-4ae7-bc5a-1c21bccb32dc"
      },
      "execution_count": 8,
      "outputs": [
        {
          "output_type": "stream",
          "name": "stdout",
          "text": [
            "True\n"
          ]
        }
      ]
    },
    {
      "cell_type": "code",
      "source": [
        "#isdigit  most common string in python\n",
        "numbers = '0758836583'\n",
        "print(numbers.isalnum())"
      ],
      "metadata": {
        "colab": {
          "base_uri": "https://localhost:8080/"
        },
        "id": "DU62vfk_mfNm",
        "outputId": "663b7293-c45f-4526-afd9-016236375b6c"
      },
      "execution_count": 14,
      "outputs": [
        {
          "output_type": "stream",
          "name": "stdout",
          "text": [
            "True\n"
          ]
        }
      ]
    },
    {
      "cell_type": "code",
      "source": [
        "#isidentifier  most common string in python\n",
        "numbers = '0758836583'\n",
        "print(numbers.isidentifier())"
      ],
      "metadata": {
        "colab": {
          "base_uri": "https://localhost:8080/"
        },
        "id": "K4PImgWanX3H",
        "outputId": "ea9bcb28-9814-490c-b1fa-633fe3f7c3fc"
      },
      "execution_count": 15,
      "outputs": [
        {
          "output_type": "stream",
          "name": "stdout",
          "text": [
            "False\n"
          ]
        }
      ]
    },
    {
      "cell_type": "code",
      "source": [
        "#islower  most common string in python\n",
        "numbers = 'keynaan'\n",
        "print(numbers.islower())"
      ],
      "metadata": {
        "colab": {
          "base_uri": "https://localhost:8080/"
        },
        "id": "EXtsixQontU4",
        "outputId": "f4fa701d-5cdf-4bbb-f9f6-9ef1fd8f7351"
      },
      "execution_count": 16,
      "outputs": [
        {
          "output_type": "stream",
          "name": "stdout",
          "text": [
            "True\n"
          ]
        }
      ]
    },
    {
      "cell_type": "code",
      "source": [
        "#isupper  most common string in python\n",
        "numbers = 'keynaan'\n",
        "print(numbers.isupper())"
      ],
      "metadata": {
        "colab": {
          "base_uri": "https://localhost:8080/"
        },
        "id": "l_4jnlTWn4EF",
        "outputId": "ee4213dd-06fc-46ab-819b-ea4744676d3b"
      },
      "execution_count": 17,
      "outputs": [
        {
          "output_type": "stream",
          "name": "stdout",
          "text": [
            "False\n"
          ]
        }
      ]
    },
    {
      "cell_type": "code",
      "source": [
        "#isprintiple  most common string in python\n",
        "numbers = 'keynaan'\n",
        "print(numbers.isprintable())"
      ],
      "metadata": {
        "colab": {
          "base_uri": "https://localhost:8080/"
        },
        "id": "xxRMMqxwoBTX",
        "outputId": "ec9898a8-2cda-4a77-d12f-d06ed6bbe5d1"
      },
      "execution_count": 18,
      "outputs": [
        {
          "output_type": "stream",
          "name": "stdout",
          "text": [
            "True\n"
          ]
        }
      ]
    },
    {
      "cell_type": "code",
      "source": [
        "#istitle  most common string in python\n",
        "numbers = 'Keynaan'\n",
        "print(numbers.istitle())"
      ],
      "metadata": {
        "colab": {
          "base_uri": "https://localhost:8080/"
        },
        "id": "rLOT-R9doM5R",
        "outputId": "9d4531a6-433d-458d-ea9b-03e15a1dc5be"
      },
      "execution_count": 23,
      "outputs": [
        {
          "output_type": "stream",
          "name": "stdout",
          "text": [
            "True\n"
          ]
        }
      ]
    },
    {
      "cell_type": "code",
      "source": [
        "#isspace  most common string in python\n",
        "numbers = 'keynaan'\n",
        "print(numbers.isspace())"
      ],
      "metadata": {
        "colab": {
          "base_uri": "https://localhost:8080/"
        },
        "id": "7f5ZrNTdokdC",
        "outputId": "00fbecdb-dfdb-444e-9428-0d6a47914da6"
      },
      "execution_count": 21,
      "outputs": [
        {
          "output_type": "stream",
          "name": "stdout",
          "text": [
            "False\n"
          ]
        }
      ]
    },
    {
      "cell_type": "code",
      "source": [
        "#isspace  most common string in python\n",
        "numbers = '    '\n",
        "print(numbers.isspace())"
      ],
      "metadata": {
        "colab": {
          "base_uri": "https://localhost:8080/"
        },
        "id": "PB8YMftepCol",
        "outputId": "227a77b1-0476-4b08-dcc0-e8a9f0389ba6"
      },
      "execution_count": 24,
      "outputs": [
        {
          "output_type": "stream",
          "name": "stdout",
          "text": [
            "True\n"
          ]
        }
      ]
    },
    {
      "cell_type": "code",
      "source": [
        "#isspace  most common string in python\n",
        "numbers = 'keynaan'\n",
        "print(numbers.isascii())"
      ],
      "metadata": {
        "colab": {
          "base_uri": "https://localhost:8080/"
        },
        "id": "YOhIpTF8pISg",
        "outputId": "2ddd1c6d-c773-4128-faf9-0f48339668a3"
      },
      "execution_count": 25,
      "outputs": [
        {
          "output_type": "stream",
          "name": "stdout",
          "text": [
            "True\n"
          ]
        }
      ]
    }
  ]
}