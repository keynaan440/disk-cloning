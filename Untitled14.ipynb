{
  "nbformat": 4,
  "nbformat_minor": 0,
  "metadata": {
    "colab": {
      "provenance": [],
      "authorship_tag": "ABX9TyM7DKH9PL+t4Z1utN1mkc/T",
      "include_colab_link": true
    },
    "kernelspec": {
      "name": "python3",
      "display_name": "Python 3"
    },
    "language_info": {
      "name": "python"
    }
  },
  "cells": [
    {
      "cell_type": "markdown",
      "metadata": {
        "id": "view-in-github",
        "colab_type": "text"
      },
      "source": [
        "<a href=\"https://colab.research.google.com/github/keynaan440/disk-cloning/blob/main/Untitled14.ipynb\" target=\"_parent\"><img src=\"https://colab.research.google.com/assets/colab-badge.svg\" alt=\"Open In Colab\"/></a>"
      ]
    },
    {
      "cell_type": "code",
      "execution_count": 15,
      "metadata": {
        "colab": {
          "base_uri": "https://localhost:8080/"
        },
        "id": "FYY3f4MW5Buv",
        "outputId": "1057d9bc-f155-451b-c748-e07948f88cfe"
      },
      "outputs": [
        {
          "output_type": "stream",
          "name": "stdout",
          "text": [
            "enter your email : keynaanabdi@gmail.com\n",
            "enter your password : 123\n",
            "welcome your dashboard\n"
          ]
        }
      ],
      "source": [
        "email = input(\"enter your email : \")\n",
        "password = int(input(\"enter your password : \"))\n",
        "if email == \"keynaanabdi@gmail.com\" and password == 123:\n",
        "  print(\"welcome your dashboard\")\n",
        "else:\n",
        "    print(\"your email or your password or both id incorect\")\n",
        "ahmed = input(\" if you paased \")"
      ]
    },
    {
      "cell_type": "code",
      "source": [
        "passed = input(\"ahmed have you passed the mathmatics exam ?\")\n",
        "failed = input(\"ahmed have you failed the mathmatics exam ?\")\n",
        "if passed == \"yes\" and failed == \"nope\":\n",
        "  print(\"i will bay you a bicycle\")\n",
        "else :\n",
        "\n",
        "    print(\"i will not pay you a bicycle\")\n"
      ],
      "metadata": {
        "colab": {
          "base_uri": "https://localhost:8080/"
        },
        "id": "SKaQD5ZvAg-k",
        "outputId": "9b99fa6a-1ce8-48d6-b047-98d9a54a5430"
      },
      "execution_count": 65,
      "outputs": [
        {
          "output_type": "stream",
          "name": "stdout",
          "text": [
            "ahmed have you passed the mathmatics exam ?yes\n",
            "ahmed have you failed the mathmatics exam ?no[pe\n",
            "i will not pay you a bicycle\n"
          ]
        }
      ]
    }
  ]
}