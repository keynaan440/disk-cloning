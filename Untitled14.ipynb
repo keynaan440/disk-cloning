{
  "nbformat": 4,
  "nbformat_minor": 0,
  "metadata": {
    "colab": {
      "provenance": [],
      "authorship_tag": "ABX9TyOcr5U2ShR1VPsZJkbaBmdr",
      "include_colab_link": true
    },
    "kernelspec": {
      "name": "python3",
      "display_name": "Python 3"
    },
    "language_info": {
      "name": "python"
    }
  },
  "cells": [
    {
      "cell_type": "markdown",
      "metadata": {
        "id": "view-in-github",
        "colab_type": "text"
      },
      "source": [
        "<a href=\"https://colab.research.google.com/github/keynaan440/disk-cloning/blob/main/Untitled14.ipynb\" target=\"_parent\"><img src=\"https://colab.research.google.com/assets/colab-badge.svg\" alt=\"Open In Colab\"/></a>"
      ]
    },
    {
      "cell_type": "code",
      "execution_count": 15,
      "metadata": {
        "colab": {
          "base_uri": "https://localhost:8080/"
        },
        "id": "FYY3f4MW5Buv",
        "outputId": "1057d9bc-f155-451b-c748-e07948f88cfe"
      },
      "outputs": [
        {
          "output_type": "stream",
          "name": "stdout",
          "text": [
            "enter your email : keynaanabdi@gmail.com\n",
            "enter your password : 123\n",
            "welcome your dashboard\n"
          ]
        }
      ],
      "source": [
        "email = input(\"enter your email : \")\n",
        "password = int(input(\"enter your password : \"))\n",
        "if email == \"keynaanabdi@gmail.com\" and password == 123:\n",
        "  print(\"welcome your dashboard\")\n",
        "else:\n",
        "    print(\"your email or your password or both id incorect\")"
      ]
    }
  ]
}