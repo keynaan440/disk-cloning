{
  "nbformat": 4,
  "nbformat_minor": 0,
  "metadata": {
    "colab": {
      "provenance": [],
      "authorship_tag": "ABX9TyMdGCo2edexip7O2/JHN0Wf",
      "include_colab_link": true
    },
    "kernelspec": {
      "name": "python3",
      "display_name": "Python 3"
    },
    "language_info": {
      "name": "python"
    }
  },
  "cells": [
    {
      "cell_type": "markdown",
      "metadata": {
        "id": "view-in-github",
        "colab_type": "text"
      },
      "source": [
        "<a href=\"https://colab.research.google.com/github/keynaan440/disk-cloning/blob/main/Untitled23.ipynb\" target=\"_parent\"><img src=\"https://colab.research.google.com/assets/colab-badge.svg\" alt=\"Open In Colab\"/></a>"
      ]
    },
    {
      "cell_type": "code",
      "execution_count": 16,
      "metadata": {
        "colab": {
          "base_uri": "https://localhost:8080/"
        },
        "id": "7fGPeoypYYni",
        "outputId": "a0f47ede-9a01-43a1-c6a4-ab372a00db53"
      },
      "outputs": [
        {
          "output_type": "stream",
          "name": "stdout",
          "text": [
            "['keynaan', 'ali', 'roodo', 'catoosh', 'geenyo', 'abdi', 21, 33, 1.8, True]\n"
          ]
        }
      ],
      "source": [
        "     #python list\n",
        "     students =  [\"keynaan\", \"ali\", \"roodo\",\"catoosh\" ,\"geenyo\" ,\"abdi\", 21, 33, 1.8,True]\n",
        "     print(students)"
      ]
    },
    {
      "cell_type": "code",
      "source": [
        "     #python list\n",
        "     students =  [\"keynaan\", \"ali\", \"roodo\",\"catoosh\" ,\"geenyo\" ,\"abdi\", 21, 33, 1.8,True]\n",
        "     print(students[5])"
      ],
      "metadata": {
        "colab": {
          "base_uri": "https://localhost:8080/"
        },
        "id": "nkQtTZ3ykGdP",
        "outputId": "9da8e3ad-a634-4649-b006-5becd07c1116"
      },
      "execution_count": 18,
      "outputs": [
        {
          "output_type": "stream",
          "name": "stdout",
          "text": [
            "abdi\n"
          ]
        }
      ]
    }
  ]
}