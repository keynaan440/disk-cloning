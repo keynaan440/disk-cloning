{
  "nbformat": 4,
  "nbformat_minor": 0,
  "metadata": {
    "colab": {
      "provenance": [],
      "authorship_tag": "ABX9TyMnNUOoNGN1+hUfH8sRBpX4",
      "include_colab_link": true
    },
    "kernelspec": {
      "name": "python3",
      "display_name": "Python 3"
    },
    "language_info": {
      "name": "python"
    }
  },
  "cells": [
    {
      "cell_type": "markdown",
      "metadata": {
        "id": "view-in-github",
        "colab_type": "text"
      },
      "source": [
        "<a href=\"https://colab.research.google.com/github/keynaan440/disk-cloning/blob/main/Untitled34.ipynb\" target=\"_parent\"><img src=\"https://colab.research.google.com/assets/colab-badge.svg\" alt=\"Open In Colab\"/></a>"
      ]
    },
    {
      "cell_type": "code",
      "execution_count": 1,
      "metadata": {
        "colab": {
          "base_uri": "https://localhost:8080/"
        },
        "id": "Mi_oshgWBlhO",
        "outputId": "ae2202d5-e884-4def-ed0a-ec73e9303fa9"
      },
      "outputs": [
        {
          "output_type": "stream",
          "name": "stdout",
          "text": [
            "('makarere university', 'victoria university', 'kampla university')\n"
          ]
        }
      ],
      "source": [
        "#function in tuple() #len(), #count(), #min() #max()\n",
        "\n",
        "universities = (\"makarere university\", \"victoria university\", \"kampla university\")\n",
        "print(universities)\n"
      ]
    },
    {
      "cell_type": "code",
      "source": [
        "#function in tuple() #len(),\n",
        "\n",
        "universities = (\"makarere university\", \"victoria university\", \"kampla university\")\n",
        "print(len(universities))\n"
      ],
      "metadata": {
        "colab": {
          "base_uri": "https://localhost:8080/"
        },
        "id": "0PwbH964C20s",
        "outputId": "bb680a5d-f088-4292-cef3-b11aa41866b6"
      },
      "execution_count": 2,
      "outputs": [
        {
          "output_type": "stream",
          "name": "stdout",
          "text": [
            "3\n"
          ]
        }
      ]
    },
    {
      "cell_type": "code",
      "source": [
        "#function in tuple() #count(),\n",
        "\n",
        "universities = (\"makarere university\", \"victoria university\", \"makarere university\", \"kampla university\")\n",
        "print(universities.count(\"makarere university\",))\n"
      ],
      "metadata": {
        "colab": {
          "base_uri": "https://localhost:8080/"
        },
        "id": "vfc_9CTKDGGA",
        "outputId": "a88aa7e7-1068-4e0d-fd11-3fc3792010a7"
      },
      "execution_count": 4,
      "outputs": [
        {
          "output_type": "stream",
          "name": "stdout",
          "text": [
            "2\n"
          ]
        }
      ]
    },
    {
      "cell_type": "code",
      "source": [
        "#function in tuple()  #max()\n",
        "numbers =  (100, 200, 300, 400,)\n",
        "print(min(numbers))"
      ],
      "metadata": {
        "colab": {
          "base_uri": "https://localhost:8080/"
        },
        "id": "ptCnF-GEDmSl",
        "outputId": "57967f6e-771a-4c83-a185-ae47dbf0ae69"
      },
      "execution_count": 6,
      "outputs": [
        {
          "output_type": "stream",
          "name": "stdout",
          "text": [
            "100\n"
          ]
        }
      ]
    },
    {
      "cell_type": "code",
      "source": [
        "#function in tuple()  #max()\n",
        "numbers =  (100, 200, 300, 400,)\n",
        "print(max(numbers))"
      ],
      "metadata": {
        "colab": {
          "base_uri": "https://localhost:8080/"
        },
        "id": "PMdcC0_iEHg8",
        "outputId": "de776d1e-97a6-48ac-9a5e-0845a46cdb44"
      },
      "execution_count": 7,
      "outputs": [
        {
          "output_type": "stream",
          "name": "stdout",
          "text": [
            "400\n"
          ]
        }
      ]
    }
  ]
}