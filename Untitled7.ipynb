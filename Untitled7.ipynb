{
  "nbformat": 4,
  "nbformat_minor": 0,
  "metadata": {
    "colab": {
      "provenance": [],
      "authorship_tag": "ABX9TyPlaNg02L034H9EqtJIov05",
      "include_colab_link": true
    },
    "kernelspec": {
      "name": "python3",
      "display_name": "Python 3"
    },
    "language_info": {
      "name": "python"
    }
  },
  "cells": [
    {
      "cell_type": "markdown",
      "metadata": {
        "id": "view-in-github",
        "colab_type": "text"
      },
      "source": [
        "<a href=\"https://colab.research.google.com/github/keynaan440/disk-cloning/blob/main/Untitled7.ipynb\" target=\"_parent\"><img src=\"https://colab.research.google.com/assets/colab-badge.svg\" alt=\"Open In Colab\"/></a>"
      ]
    },
    {
      "cell_type": "code",
      "execution_count": 7,
      "metadata": {
        "colab": {
          "base_uri": "https://localhost:8080/"
        },
        "id": "78AlWjj0GfxT",
        "outputId": "eb576ff0-29c4-4a52-ed92-f812b2401400"
      },
      "outputs": [
        {
          "output_type": "stream",
          "name": "stdout",
          "text": [
            "4\n",
            "90\n",
            "2\n",
            "4\n",
            "387420489\n",
            "1\n"
          ]
        }
      ],
      "source": [
        "#arthamtic operation\n",
        "#addition\n",
        "x = 2\n",
        "y = 2\n",
        "print(x+y)\n",
        "#multi\n",
        "number1 = 9\n",
        "number2 = 10\n",
        "print(number1*number2)\n",
        "n1 = 2\n",
        "n2 = 3\n",
        "n3 = 4\n",
        "print(n2*n1-n3)\n",
        "n2 = 9\n",
        "n5 = 5\n",
        "print(n2%n5)\n",
        "print(n2**n2)\n",
        "print(n2//n5)"
      ]
    }
  ]
}