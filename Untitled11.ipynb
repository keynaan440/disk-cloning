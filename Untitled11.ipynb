{
  "nbformat": 4,
  "nbformat_minor": 0,
  "metadata": {
    "colab": {
      "provenance": [],
      "authorship_tag": "ABX9TyM6dlek4gjAwtaV0mqOKpfk",
      "include_colab_link": true
    },
    "kernelspec": {
      "name": "python3",
      "display_name": "Python 3"
    },
    "language_info": {
      "name": "python"
    }
  },
  "cells": [
    {
      "cell_type": "markdown",
      "metadata": {
        "id": "view-in-github",
        "colab_type": "text"
      },
      "source": [
        "<a href=\"https://colab.research.google.com/github/keynaan440/disk-cloning/blob/main/Untitled11.ipynb\" target=\"_parent\"><img src=\"https://colab.research.google.com/assets/colab-badge.svg\" alt=\"Open In Colab\"/></a>"
      ]
    },
    {
      "cell_type": "code",
      "execution_count": 10,
      "metadata": {
        "colab": {
          "base_uri": "https://localhost:8080/"
        },
        "id": "nj2ibMRLyAp1",
        "outputId": "3ffd9ef6-88e8-4044-a602-07e2cdaa3c6e"
      },
      "outputs": [
        {
          "output_type": "stream",
          "name": "stdout",
          "text": [
            "enter your name? :mohamud abdi mohamed \n",
            "your name is mohamud abdi mohamed  thank you\n",
            "enter your age? :24\n",
            "your age is 24 thanks you\n",
            "enter your birth? :2002\n",
            "your barth is 2002 thanks you\n",
            "enter your nationalaty :somali\n",
            "your nationality is somali thanks you\n",
            "enter your marrage? :single\n",
            "your marrage is single thanks you\n",
            "enter your adress? :makerere kikoni\n",
            "your adress is makerere kikoni thanks you\n",
            "enter your telephoneNamber? :0758836583\n",
            "your telephoneNamberis 0758836583 thanks you\n"
          ]
        }
      ],
      "source": [
        "#input() fuction python part one\n",
        "name = input(\"enter your name? :\")\n",
        "print(\"your name is \" + name + \" thank you\")\n",
        "age = input(\"enter your age? :\")\n",
        "print(\"your age is \" + age + \" thanks you\")\n",
        "barth = input(\"enter your birth? :\")\n",
        "print(\"your barth is \" + barth + \" thanks you\")\n",
        "nationality = input(\"enter your nationalaty :\")\n",
        "print(\"your nationality is \" + nationality+ \" thanks you\")\n",
        "marrage = input(\"enter your marrage? :\")\n",
        "print(\"your marrage is \" + marrage + \" thanks you\")\n",
        "adress = input(\"enter your adress? :\")\n",
        "print(\"your adress is \" + adress + \" thanks you\")\n",
        "telephoneNamber = input(\"enter your telephoneNamber? :\")\n",
        "print(\"your telephoneNamberis \" + telephoneNamber + \" thanks you\")\n"
      ]
    }
  ]
}