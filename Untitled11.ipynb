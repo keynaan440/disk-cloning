{
  "nbformat": 4,
  "nbformat_minor": 0,
  "metadata": {
    "colab": {
      "provenance": [],
      "authorship_tag": "ABX9TyPFexcg/RpXBp9tdpAVl+zG",
      "include_colab_link": true
    },
    "kernelspec": {
      "name": "python3",
      "display_name": "Python 3"
    },
    "language_info": {
      "name": "python"
    }
  },
  "cells": [
    {
      "cell_type": "markdown",
      "metadata": {
        "id": "view-in-github",
        "colab_type": "text"
      },
      "source": [
        "<a href=\"https://colab.research.google.com/github/keynaan440/disk-cloning/blob/main/Untitled11.ipynb\" target=\"_parent\"><img src=\"https://colab.research.google.com/assets/colab-badge.svg\" alt=\"Open In Colab\"/></a>"
      ]
    },
    {
      "cell_type": "code",
      "execution_count": 8,
      "metadata": {
        "colab": {
          "base_uri": "https://localhost:8080/"
        },
        "id": "nj2ibMRLyAp1",
        "outputId": "91c00478-8a75-4b5a-ae62-3a7e38a92de2"
      },
      "outputs": [
        {
          "output_type": "stream",
          "name": "stdout",
          "text": [
            "enter your name?:keynaan abdi moahamed\n",
            "enter your age?:24\n",
            "enter your nationality?:somalia\n",
            "enter your adress?:adress\n",
            "enter your marrage?:single\n",
            "enter your number?:0758836583\n",
            "keynaan abdi moahamed\n",
            "24\n",
            "somalia\n",
            "adress\n",
            "single\n",
            "0758836583\n"
          ]
        }
      ],
      "source": [
        "name = input(\"enter your name?:\")\n",
        "age = input(\"enter your age?:\")\n",
        "nationality = input(\"enter your nationality?:\")\n",
        "adress= input(\"enter your adress?:\")\n",
        "marrage= input(\"enter your marrage?:\")\n",
        "number = input(\"enter your number?:\")\n",
        "print(name)\n",
        "print(age)\n",
        "print(nationality)\n",
        "print(adress)\n",
        "print(marrage)\n",
        "print(number)\n",
        "\n",
        ""
      ]
    }
  ]
}