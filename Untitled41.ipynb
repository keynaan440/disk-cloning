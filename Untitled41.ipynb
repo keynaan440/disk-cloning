{
  "nbformat": 4,
  "nbformat_minor": 0,
  "metadata": {
    "colab": {
      "provenance": [],
      "authorship_tag": "ABX9TyMZYc6K12ShhT88darZRX7P",
      "include_colab_link": true
    },
    "kernelspec": {
      "name": "python3",
      "display_name": "Python 3"
    },
    "language_info": {
      "name": "python"
    }
  },
  "cells": [
    {
      "cell_type": "markdown",
      "metadata": {
        "id": "view-in-github",
        "colab_type": "text"
      },
      "source": [
        "<a href=\"https://colab.research.google.com/github/keynaan440/disk-cloning/blob/main/Untitled41.ipynb\" target=\"_parent\"><img src=\"https://colab.research.google.com/assets/colab-badge.svg\" alt=\"Open In Colab\"/></a>"
      ]
    },
    {
      "cell_type": "code",
      "execution_count": 9,
      "metadata": {
        "colab": {
          "base_uri": "https://localhost:8080/"
        },
        "id": "O_afj2KjMqkx",
        "outputId": "4c936f02-7f25-4670-9092-81763d4b252e"
      },
      "outputs": [
        {
          "output_type": "stream",
          "name": "stdout",
          "text": [
            "school\n"
          ]
        }
      ],
      "source": [
        "#function def in python\n",
        "def school():\n",
        "   school = \"school\"\n",
        "   print( school)\n",
        "school()\n"
      ]
    },
    {
      "cell_type": "code",
      "source": [
        "def youtupechanel():\n",
        "  youtupechanelname = input (\"enter the youtupe name :\")\n",
        "  print(\" the youtupechanel is \", youtupechanelname)\n",
        "\n",
        "\n",
        "youtupechanel()"
      ],
      "metadata": {
        "colab": {
          "base_uri": "https://localhost:8080/"
        },
        "id": "a1OFyTBdNIaN",
        "outputId": "fb72ed93-9ffa-4652-ba15-97ed83ca2857"
      },
      "execution_count": 13,
      "outputs": [
        {
          "output_type": "stream",
          "name": "stdout",
          "text": [
            "enter the youtupe name :somali creativity and innavation\n",
            " the youtupechanel is  somali creativity and innavation\n"
          ]
        }
      ]
    },
    {
      "cell_type": "code",
      "source": [
        "# addtition function in python\n",
        "def addtition():\n",
        "  num1,  num2,  num3 = 12, 15, 18\n",
        "  result = num1 + num2 + num3\n",
        "  print(result)\n",
        "\n",
        "addtition()"
      ],
      "metadata": {
        "colab": {
          "base_uri": "https://localhost:8080/"
        },
        "id": "qY0AO4AzQUoU",
        "outputId": "96ba8007-7c20-432b-d469-ca6996e99e08"
      },
      "execution_count": 20,
      "outputs": [
        {
          "output_type": "stream",
          "name": "stdout",
          "text": [
            "45\n"
          ]
        }
      ]
    },
    {
      "cell_type": "code",
      "source": [
        "# multiplication function in python\n",
        "def multiplication():\n",
        "  num1,  num2,  num3 = 12, 15, 18\n",
        "  result = num1 * num2 * num3\n",
        "  print(result)\n",
        "\n",
        "multiplication()"
      ],
      "metadata": {
        "colab": {
          "base_uri": "https://localhost:8080/"
        },
        "id": "4XQAiuW1UdTs",
        "outputId": "19248bcb-9e9f-4946-8347-e4f347930bbc"
      },
      "execution_count": 21,
      "outputs": [
        {
          "output_type": "stream",
          "name": "stdout",
          "text": [
            "3240\n"
          ]
        }
      ]
    },
    {
      "cell_type": "code",
      "source": [
        "# subtracion function in python\n",
        "def subtracion():\n",
        "  num1,  num2,  num3 = 12, 15, 18\n",
        "  result = num1 - num2 - num3\n",
        "  print(result)\n",
        "\n",
        "subtracion()"
      ],
      "metadata": {
        "colab": {
          "base_uri": "https://localhost:8080/"
        },
        "id": "LKPMzCUmUeVl",
        "outputId": "a02b357f-18c8-4c2f-df2b-6f9a12ceb7f3"
      },
      "execution_count": 22,
      "outputs": [
        {
          "output_type": "stream",
          "name": "stdout",
          "text": [
            "-21\n"
          ]
        }
      ]
    },
    {
      "cell_type": "code",
      "source": [
        "# difinition function in python\n",
        "def difinition():\n",
        "  num1,  num2,  num3 = 12, 15, 18\n",
        "  result = num1 / num2 / num3\n",
        "  print(result)\n",
        "\n",
        "difinition()"
      ],
      "metadata": {
        "colab": {
          "base_uri": "https://localhost:8080/"
        },
        "id": "Iahrwlb7Ufjs",
        "outputId": "96ed3d5d-0889-42a6-fe08-1bd0476a04b5"
      },
      "execution_count": 23,
      "outputs": [
        {
          "output_type": "stream",
          "name": "stdout",
          "text": [
            "0.044444444444444446\n"
          ]
        }
      ]
    },
    {
      "cell_type": "code",
      "source": [
        "#  multiplication function in python\n",
        "def multiplication():\n",
        "  num1 = int (input(\"enter the value of number1:\"))\n",
        "  num2 = int (input(\"enter the value of number2:\"))\n",
        "  result = num1 * num2\n",
        "  print(result)\n",
        "\n",
        "multiplication()"
      ],
      "metadata": {
        "colab": {
          "base_uri": "https://localhost:8080/"
        },
        "id": "h1I4IYvHVNFc",
        "outputId": "e3bd467d-1c44-408a-f84e-ffe08b61bfd7"
      },
      "execution_count": 31,
      "outputs": [
        {
          "output_type": "stream",
          "name": "stdout",
          "text": [
            "enter the value of number1:100\n",
            "enter the value of number2:200\n",
            "20000\n"
          ]
        }
      ]
    },
    {
      "cell_type": "code",
      "source": [
        "#fumction with arguments in python\n",
        "def multiplication(x , y):\n",
        "  print(x *  y)\n",
        "\n",
        "multiplication(2 , 3)"
      ],
      "metadata": {
        "colab": {
          "base_uri": "https://localhost:8080/"
        },
        "id": "QqkfZepSXT9t",
        "outputId": "22da5c06-18d7-40cf-ff21-178ce3e9ff7a"
      },
      "execution_count": 35,
      "outputs": [
        {
          "output_type": "stream",
          "name": "stdout",
          "text": [
            "6\n"
          ]
        }
      ]
    },
    {
      "cell_type": "code",
      "source": [
        "#fumction without arguments in python\n",
        "def Myschool():\n",
        "  print(\"omer samanter \")\n",
        "Myschool()\n"
      ],
      "metadata": {
        "colab": {
          "base_uri": "https://localhost:8080/"
        },
        "id": "4aefu-WRctDl",
        "outputId": "a31cde2c-6ed6-405d-ec78-f5eb8e4f8a35"
      },
      "execution_count": 36,
      "outputs": [
        {
          "output_type": "stream",
          "name": "stdout",
          "text": [
            "omer samanter \n"
          ]
        }
      ]
    },
    {
      "cell_type": "code",
      "source": [
        "#fumction with arguments in python\n",
        "def Myschool(school):\n",
        "  print(school)\n",
        "Myschool(\"omer samanter \")\n"
      ],
      "metadata": {
        "colab": {
          "base_uri": "https://localhost:8080/"
        },
        "id": "e6K5vFpudT1e",
        "outputId": "deb4cf9e-c185-484a-8bae-9415b779034b"
      },
      "execution_count": 38,
      "outputs": [
        {
          "output_type": "stream",
          "name": "stdout",
          "text": [
            "omer samanter \n"
          ]
        }
      ]
    },
    {
      "cell_type": "code",
      "source": [
        "def job(name, age, title):\n",
        "  print(\"My name is \", name, \"My age is\", age, \"and my title is\", title)\n",
        "job(\"keynaan\", 25,  \"cypersecurity\")\n"
      ],
      "metadata": {
        "colab": {
          "base_uri": "https://localhost:8080/"
        },
        "id": "DzpydEe2ds0b",
        "outputId": "9a2b5cb2-97cf-442b-d972-9ce17725d11c"
      },
      "execution_count": 50,
      "outputs": [
        {
          "output_type": "stream",
          "name": "stdout",
          "text": [
            "My name is  keynaan My age is 25 and my title is cypersecurity\n"
          ]
        }
      ]
    },
    {
      "cell_type": "code",
      "source": [
        "def website():\n",
        "  websitename = \"somali creativity and innavation\"\n",
        "  print(\"i learnt python form \",websitename, \"website\" )\n",
        "\n",
        "website()"
      ],
      "metadata": {
        "colab": {
          "base_uri": "https://localhost:8080/"
        },
        "id": "qHdSWUtLiGg1",
        "outputId": "7dfba33f-1416-4c3e-f3e8-2ceadd32d388"
      },
      "execution_count": 73,
      "outputs": [
        {
          "output_type": "stream",
          "name": "stdout",
          "text": [
            "i learnt python form  somali creativity and innavation website\n"
          ]
        }
      ]
    },
    {
      "cell_type": "code",
      "source": [
        "def website(websitename):\n",
        "    print(\"I learnt Python from\", websitename, \"website\")\n",
        "\n",
        "website(\"somali creativity and innovation\")\n",
        "\n",
        "\n",
        "\n",
        "\n",
        "\n",
        "\n"
      ],
      "metadata": {
        "colab": {
          "base_uri": "https://localhost:8080/"
        },
        "id": "EpxcTfOpkrBj",
        "outputId": "696f0be3-d61e-4a12-dc4a-331c6d5beb50"
      },
      "execution_count": 86,
      "outputs": [
        {
          "output_type": "stream",
          "name": "stdout",
          "text": [
            "I learnt Python from somali creativity and innovation website\n"
          ]
        }
      ]
    },
    {
      "cell_type": "code",
      "source": [
        "def animals():\n",
        "  animalsname = \"\"\"\n",
        "  geel\n",
        "  ari\n",
        "  dameero\n",
        "  daaanyeero\n",
        "  biisado\n",
        "  sigaaro\n",
        "  eeyo\n",
        "  \"\"\"\n",
        "  print(animalsname)\n",
        "animals()\n",
        "def colors():\n",
        "    nameofcolors = \"\"\"\n",
        "    green\n",
        "    oronge\n",
        "    blue\n",
        "    black\n",
        "    white\n",
        "    \"\"\"\n",
        "    print(nameofcolors)\n",
        "colors()\n"
      ],
      "metadata": {
        "colab": {
          "base_uri": "https://localhost:8080/"
        },
        "id": "RTEDs-bdog3f",
        "outputId": "7f090a79-b495-453e-abbd-4d943ea3b68c"
      },
      "execution_count": 97,
      "outputs": [
        {
          "output_type": "stream",
          "name": "stdout",
          "text": [
            "\n",
            "  geel\n",
            "  ari\n",
            "  dameero\n",
            "  daaanyeero\n",
            "  biisado\n",
            "  sigaaro\n",
            "  eeyo\n",
            "  \n",
            "\n",
            "    green \n",
            "    oronge\n",
            "    blue\n",
            "    black\n",
            "    white\n",
            "    \n"
          ]
        }
      ]
    },
    {
      "cell_type": "code",
      "source": [],
      "metadata": {
        "colab": {
          "base_uri": "https://localhost:8080/",
          "height": 366
        },
        "id": "Q2fSkJgIsRzr",
        "outputId": "49fc5e03-7d8c-4435-bb86-c04566154103"
      },
      "execution_count": 96,
      "outputs": [
        {
          "output_type": "error",
          "ename": "ModuleNotFoundError",
          "evalue": "No module named 'one'",
          "traceback": [
            "\u001b[0;31m---------------------------------------------------------------------------\u001b[0m",
            "\u001b[0;31mModuleNotFoundError\u001b[0m                       Traceback (most recent call last)",
            "\u001b[0;32m<ipython-input-96-622f5cfae487>\u001b[0m in \u001b[0;36m<cell line: 1>\u001b[0;34m()\u001b[0m\n\u001b[0;32m----> 1\u001b[0;31m \u001b[0;32mimport\u001b[0m \u001b[0mone\u001b[0m\u001b[0;34m\u001b[0m\u001b[0;34m\u001b[0m\u001b[0m\n\u001b[0m\u001b[1;32m      2\u001b[0m \u001b[0;32mdef\u001b[0m \u001b[0mcolors\u001b[0m\u001b[0;34m(\u001b[0m\u001b[0;34m)\u001b[0m\u001b[0;34m:\u001b[0m\u001b[0;34m\u001b[0m\u001b[0;34m\u001b[0m\u001b[0m\n\u001b[1;32m      3\u001b[0m     \u001b[0;32mreturn\u001b[0m \u001b[0;34m[\u001b[0m\u001b[0;34m\"red\"\u001b[0m\u001b[0;34m,\u001b[0m \u001b[0;34m\"green\"\u001b[0m\u001b[0;34m,\u001b[0m \u001b[0;34m\"blue\"\u001b[0m\u001b[0;34m]\u001b[0m\u001b[0;34m\u001b[0m\u001b[0;34m\u001b[0m\u001b[0m\n",
            "\u001b[0;31mModuleNotFoundError\u001b[0m: No module named 'one'",
            "",
            "\u001b[0;31m---------------------------------------------------------------------------\u001b[0;32m\nNOTE: If your import is failing due to a missing package, you can\nmanually install dependencies using either !pip or !apt.\n\nTo view examples of installing some common dependencies, click the\n\"Open Examples\" button below.\n\u001b[0;31m---------------------------------------------------------------------------\u001b[0m\n"
          ],
          "errorDetails": {
            "actions": [
              {
                "action": "open_url",
                "actionText": "Open Examples",
                "url": "/notebooks/snippets/importing_libraries.ipynb"
              }
            ]
          }
        }
      ]
    }
  ]
}