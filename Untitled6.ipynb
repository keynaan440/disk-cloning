{
  "nbformat": 4,
  "nbformat_minor": 0,
  "metadata": {
    "colab": {
      "provenance": [],
      "authorship_tag": "ABX9TyOEDNuK+XtaiIy3XGKv2tkv",
      "include_colab_link": true
    },
    "kernelspec": {
      "name": "python3",
      "display_name": "Python 3"
    },
    "language_info": {
      "name": "python"
    }
  },
  "cells": [
    {
      "cell_type": "markdown",
      "metadata": {
        "id": "view-in-github",
        "colab_type": "text"
      },
      "source": [
        "<a href=\"https://colab.research.google.com/github/keynaan440/disk-cloning/blob/main/Untitled6.ipynb\" target=\"_parent\"><img src=\"https://colab.research.google.com/assets/colab-badge.svg\" alt=\"Open In Colab\"/></a>"
      ]
    },
    {
      "cell_type": "code",
      "source": [
        "universityname = \"victoria university\"\n",
        "universitylocation  = \"kampala\"\n",
        "universityfee = 450\n",
        "universitygrade = 90.1\n",
        "universityadress  = \"jinja\"\n",
        "university =True\n",
        "\n",
        "print(type(universitylocation))\n",
        "print(type(universitygrade))\n",
        "print(type(universityfee))\n",
        "print(type(university))"
      ],
      "metadata": {
        "colab": {
          "base_uri": "https://localhost:8080/"
        },
        "id": "Kd0l-WxvKjqv",
        "outputId": "56321b96-05f6-4601-ec98-ed693f4a66f0"
      },
      "execution_count": 29,
      "outputs": [
        {
          "output_type": "stream",
          "name": "stdout",
          "text": [
            "<class 'str'>\n",
            "<class 'float'>\n",
            "<class 'int'>\n",
            "<class 'bool'>\n"
          ]
        }
      ]
    },
    {
      "cell_type": "code",
      "source": [
        "names = \"\"\"\n",
        "\n",
        "xaliima keynaaan abdi\n",
        "moahamed farah geedi\n",
        "shamsa ali ahmed\n",
        "roogada mohamed ali\n",
        "ali ilmi bare\n",
        "\"\"\"\n",
        "print(names)"
      ],
      "metadata": {
        "colab": {
          "base_uri": "https://localhost:8080/"
        },
        "id": "kg8AKu_BOSsg",
        "outputId": "a0b272b5-3876-4978-c3da-47717f59bf85"
      },
      "execution_count": 30,
      "outputs": [
        {
          "output_type": "stream",
          "name": "stdout",
          "text": [
            "\n",
            "\n",
            "xaliima keynaaan abdi \n",
            "moahamed farah geedi\n",
            "shamsa ali ahmed\n",
            "roogada mohamed ali\n",
            "ali ilmi bare \n",
            "\n"
          ]
        }
      ]
    }
  ]
}