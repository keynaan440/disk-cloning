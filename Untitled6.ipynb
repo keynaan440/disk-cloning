{
  "nbformat": 4,
  "nbformat_minor": 0,
  "metadata": {
    "colab": {
      "provenance": [],
      "authorship_tag": "ABX9TyPp5usnbV5u8UCMhZqhngkX",
      "include_colab_link": true
    },
    "kernelspec": {
      "name": "python3",
      "display_name": "Python 3"
    },
    "language_info": {
      "name": "python"
    }
  },
  "cells": [
    {
      "cell_type": "markdown",
      "metadata": {
        "id": "view-in-github",
        "colab_type": "text"
      },
      "source": [
        "<a href=\"https://colab.research.google.com/github/keynaan440/disk-cloning/blob/main/Untitled6.ipynb\" target=\"_parent\"><img src=\"https://colab.research.google.com/assets/colab-badge.svg\" alt=\"Open In Colab\"/></a>"
      ]
    },
    {
      "cell_type": "code",
      "source": [
        "name = \"keynaan\"\n",
        "print(name)\n",
        "age = 25\n",
        "print(age)\n",
        "marks = 100\n",
        "print(marks)\n",
        "ismarriage = True\n",
        "print(ismarriage)"
      ],
      "metadata": {
        "colab": {
          "base_uri": "https://localhost:8080/"
        },
        "id": "P3Al97yZD9VU",
        "outputId": "43d41a6a-e9f2-4639-f27c-a13339c82c89"
      },
      "execution_count": 10,
      "outputs": [
        {
          "output_type": "stream",
          "name": "stdout",
          "text": [
            "keynaan\n",
            "25\n",
            "100\n",
            "True\n"
          ]
        }
      ]
    }
  ]
}