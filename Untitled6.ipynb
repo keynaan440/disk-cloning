{
  "nbformat": 4,
  "nbformat_minor": 0,
  "metadata": {
    "colab": {
      "provenance": [],
      "authorship_tag": "ABX9TyP7EXrD76vEkF5U567n/DHM",
      "include_colab_link": true
    },
    "kernelspec": {
      "name": "python3",
      "display_name": "Python 3"
    },
    "language_info": {
      "name": "python"
    }
  },
  "cells": [
    {
      "cell_type": "markdown",
      "metadata": {
        "id": "view-in-github",
        "colab_type": "text"
      },
      "source": [
        "<a href=\"https://colab.research.google.com/github/keynaan440/disk-cloning/blob/main/Untitled6.ipynb\" target=\"_parent\"><img src=\"https://colab.research.google.com/assets/colab-badge.svg\" alt=\"Open In Colab\"/></a>"
      ]
    },
    {
      "cell_type": "code",
      "source": [
        "universityname = \"victoria university\"\n",
        "universitylocation  = \"kampala\"\n",
        "universityfee = 450\n",
        "universitygrade = 90.1\n",
        "universityadress  = \"jinja\"\n",
        "university =True\n",
        "\n",
        "print(type(universitylocation))\n",
        "print(type(universitygrade))\n",
        "print(type(universityfee))\n",
        "print(type(university))"
      ],
      "metadata": {
        "colab": {
          "base_uri": "https://localhost:8080/"
        },
        "id": "Kd0l-WxvKjqv",
        "outputId": "56321b96-05f6-4601-ec98-ed693f4a66f0"
      },
      "execution_count": 29,
      "outputs": [
        {
          "output_type": "stream",
          "name": "stdout",
          "text": [
            "<class 'str'>\n",
            "<class 'float'>\n",
            "<class 'int'>\n",
            "<class 'bool'>\n"
          ]
        }
      ]
    }
  ]
}