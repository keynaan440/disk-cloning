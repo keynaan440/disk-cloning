{
  "nbformat": 4,
  "nbformat_minor": 0,
  "metadata": {
    "colab": {
      "provenance": [],
      "authorship_tag": "ABX9TyMUZyGkw+ntwcfF1cWNv4Mk",
      "include_colab_link": true
    },
    "kernelspec": {
      "name": "python3",
      "display_name": "Python 3"
    },
    "language_info": {
      "name": "python"
    }
  },
  "cells": [
    {
      "cell_type": "markdown",
      "metadata": {
        "id": "view-in-github",
        "colab_type": "text"
      },
      "source": [
        "<a href=\"https://colab.research.google.com/github/keynaan440/disk-cloning/blob/main/Untitled44.ipynb\" target=\"_parent\"><img src=\"https://colab.research.google.com/assets/colab-badge.svg\" alt=\"Open In Colab\"/></a>"
      ]
    },
    {
      "cell_type": "code",
      "source": [
        "# Create a dictionary named 'devices' with date keys and corresponding device values\n",
        "devices = {\n",
        "    \"10-may-2021\": \"laptop\",\n",
        "    \"10-may-2022\": \"disktop\",\n",
        "    \"10-may-2023\": \"mouse\",\n",
        "    \"10-may-2024\": \"televetion\",\n",
        "}\n",
        "# Print all the values from the 'devices' dictionary\n",
        "print(devices.values())\n",
        "\n",
        "# Create the same dictionary 'devices' again\n",
        "devices = {\n",
        "    \"10-may-2021\": \"laptop\",\n",
        "    \"10-may-2022\": \"disktop\",\n",
        "    \"10-may-2023\": \"mouse\",\n",
        "    \"10-may-2024\": \"televetion\",\n",
        "}\n",
        "# Print all the keys from the 'devices' dictionary\n",
        "print(devices.keys())\n",
        "\n",
        "# Create the same dictionary 'devices' again\n",
        "devices = {\n",
        "    \"10-may-2021\": \"laptop\",\n",
        "    \"10-may-2022\": \"disktop\",\n",
        "    \"10-may-2023\": \"mouse\",\n",
        "    \"10-may-2024\": \"televetion\",\n",
        "}\n",
        "# Print the number of key-value pairs in the 'devices' dictionary\n",
        "print(len(devices))\n",
        "\n",
        "# Create the same dictionary 'devices' again\n",
        "devices = {\n",
        "    \"10-may-2021\": \"laptop\",\n",
        "    \"10-may-2022\": \"disktop\",\n",
        "    \"10-may-2023\": \"mouse\",\n",
        "    \"10-may-2024\": \"televetion\",\n",
        "}\n",
        "# Iterate through the dictionary and print each key\n",
        "for key in devices:\n",
        "    print(key)\n",
        "\n",
        "# Create the same dictionary 'devices' again\n",
        "devices = {\n",
        "    \"10-may-2021\": \"laptop\",\n",
        "    \"10-may-2022\": \"disktop\",\n",
        "    \"10-may-2023\": \"mouse\",\n",
        "    \"10-may-2024\": \"televetion\",\n",
        "}\n",
        "# Iterate through the dictionary and print both the key and its corresponding value\n",
        "for key in devices:\n",
        "    print(key, devices[key])\n",
        "\n",
        "# Create the same dictionary 'devices' again\n",
        "devices = {\n",
        "    \"10-may-2021\": \"laptop\",\n",
        "    \"10-may-2022\": \"disktop\",\n",
        "    \"10-may-2023\": \"mouse\",\n",
        "    \"10-may-2024\": \"televetion\",\n",
        "}\n",
        "# Add a new key-value pair \"31-may-2024\" : \"telephone\" to the dictionary\n",
        "devices[\"31-may-2024\"] = \"telephone\"\n",
        "# Print the updated dictionary\n",
        "print(devices)\n",
        "\n",
        "# Create the same dictionary 'devices' again\n",
        "devices = {\n",
        "    \"10-may-2021\": \"laptop\",\n",
        "    \"10-may-2022\": \"disktop\",\n",
        "    \"10-may-2023\": \"mouse\",\n",
        "    \"10-may-2024\": \"televetion\",\n",
        "}\n",
        "# Update the value for key \"10-may-2024\" to \"harddisk\" and add a new key-value pair \"15-november-2024\" : \"mouse\"\n",
        "devices[\"10-may-2024\"] = \"harddisk\"\n",
        "devices[\"15-november-2024\"] = \"mouse\"\n",
        "# Print the updated dictionary\n",
        "print(devices)\n",
        "\n",
        "# Create a dictionary with slightly different date keys\n",
        "devices = {\n",
        "    \"10-may-2021\": \"laptop\",\n",
        "    \"15-may-2022\": \"disktop\",\n",
        "    \"10-may-2023\": \"mouse\",\n",
        "    \"10-may-2024\": \"televetion\",\n",
        "}\n",
        "# Remove the key-value pair for \"15-may-2022\"\n",
        "del devices[\"15-may-2022\"]\n",
        "# Print the updated dictionary\n",
        "print(devices)\n",
        "\n",
        "# Create the same dictionary 'devices' again\n",
        "devices = {\n",
        "    \"10-may-2021\": \"laptop\",\n",
        "    \"15-may-2022\": \"disktop\",\n",
        "    \"10-may-2023\": \"mouse\",\n",
        "    \"10-may-2024\": \"televetion\",\n",
        "}\n",
        "# Check if the key \"11-may-2023\" exists in the dictionary and print the result (False expected)\n",
        "print(\"11-may-2023\" in devices)\n",
        "\n",
        "# Create the same dictionary 'devices' again\n",
        "devices = {\n",
        "    \"10-may-2021\": \"laptop\",\n",
        "    \"15-may-2022\": \"disktop\",\n",
        "    \"10-may-2023\": \"mouse\",\n",
        "    \"10-may-2024\": \"televetion\",\n",
        "}\n",
        "# Check if the key \"10-may-2023\" exists in the dictionary and print the result (True expected)\n",
        "print(\"10-may-2023\" in devices)\n",
        "\n",
        "# Create a dictionary named 'students' with student IDs as keys and names as values\n",
        "students = {\n",
        "    1: \"keynaan\",\n",
        "    2: \"abdi\",\n",
        "    3: \"mohamed\",\n",
        "    4: \"farah\",\n",
        "    5: \"mohamed\"\n",
        "}\n",
        "# Print the 'students' dictionary\n",
        "print(students)\n",
        "\n",
        "# Add a new student with ID 6 and name \"jaama\"\n",
        "students[6] = \"jaama\"\n",
        "# Print the updated 'students' dictionary\n",
        "print(students)\n",
        "\n",
        "# Update the student with ID 4 to have the name \"abdirahman\"\n",
        "students[4] = \"abdirahman\"\n",
        "# Print the updated 'students' dictionary\n",
        "print(students)\n"
      ],
      "metadata": {
        "colab": {
          "base_uri": "https://localhost:8080/"
        },
        "id": "X0dpf7pXKnFE",
        "outputId": "9958cb8e-c194-4a9f-e14d-bed33f897ea0"
      },
      "execution_count": 29,
      "outputs": [
        {
          "output_type": "stream",
          "name": "stdout",
          "text": [
            "dict_values(['laptop', 'disktop', 'mouse', 'televetion'])\n",
            "dict_keys(['10-may-2021', '10-may-2022', '10-may-2023', '10-may-2024'])\n",
            "4\n",
            "10-may-2021\n",
            "10-may-2022\n",
            "10-may-2023\n",
            "10-may-2024\n",
            "10-may-2021 laptop\n",
            "10-may-2022 disktop\n",
            "10-may-2023 mouse\n",
            "10-may-2024 televetion\n",
            "{'10-may-2021': 'laptop', '10-may-2022': 'disktop', '10-may-2023': 'mouse', '10-may-2024': 'televetion', '31-may-2024': 'telephone'}\n",
            "{'10-may-2021': 'laptop', '10-may-2022': 'disktop', '10-may-2023': 'mouse', '10-may-2024': 'harddisk', '15-november-2024': 'mouse'}\n",
            "{'10-may-2021': 'laptop', '10-may-2023': 'mouse', '10-may-2024': 'televetion'}\n",
            "False\n",
            "True\n",
            "{1: 'keynaan', 2: 'abdi', 3: 'mohamed', 4: 'farah', 5: 'mohamed'}\n",
            "{1: 'keynaan', 2: 'abdi', 3: 'mohamed', 4: 'farah', 5: 'mohamed', 6: 'jaama'}\n",
            "{1: 'keynaan', 2: 'abdi', 3: 'mohamed', 4: 'abdirahman', 5: 'mohamed', 6: 'jaama'}\n"
          ]
        }
      ]
    },
    {
      "cell_type": "code",
      "source": [
        "devices = {\n",
        "\"10-may-2021\" : \"laptop\" ,\n",
        "\"10-may-2022\" : \"disktop\" ,\n",
        "\"10-may-2023\" :\"mouse\"  ,\n",
        "\"10-may-2024\" :\"televetion\" ,\n",
        "\n",
        "}\n",
        "print(devices.values())"
      ],
      "metadata": {
        "colab": {
          "base_uri": "https://localhost:8080/"
        },
        "id": "tadgE8OMn5gC",
        "outputId": "2407b69b-9b18-438b-f6e1-068432999a3e"
      },
      "execution_count": 19,
      "outputs": [
        {
          "output_type": "stream",
          "name": "stdout",
          "text": [
            "dict_values(['laptop', 'disktop', 'mouse', 'televetion'])\n"
          ]
        }
      ]
    },
    {
      "cell_type": "code",
      "source": [
        "devices = {\n",
        "\"10-may-2021\" : \"laptop\" ,\n",
        "\"10-may-2022\" : \"disktop\" ,\n",
        "\"10-may-2023\" :\"mouse\"  ,\n",
        "\"10-may-2024\" :\"televetion\" ,\n",
        "\n",
        "}\n",
        "print(devices.keys())"
      ],
      "metadata": {
        "colab": {
          "base_uri": "https://localhost:8080/"
        },
        "id": "3EPA0ChjoD4k",
        "outputId": "c9c89bff-85b8-401c-a72c-20a41e0644fe"
      },
      "execution_count": 20,
      "outputs": [
        {
          "output_type": "stream",
          "name": "stdout",
          "text": [
            "dict_keys(['10-may-2021', '10-may-2022', '10-may-2023', '10-may-2024'])\n"
          ]
        }
      ]
    },
    {
      "cell_type": "code",
      "source": [
        "devices = {\n",
        "\"10-may-2021\" : \"laptop\" ,\n",
        "\"10-may-2022\" : \"disktop\" ,\n",
        "\"10-may-2023\" :\"mouse\"  ,\n",
        "\"10-may-2024\" :\"televetion\" ,\n",
        "\n",
        "}\n",
        "print(len(devices))"
      ],
      "metadata": {
        "colab": {
          "base_uri": "https://localhost:8080/"
        },
        "id": "c94-wEg4oOUj",
        "outputId": "8fe95980-5195-42e8-c826-41cd76c08e7a"
      },
      "execution_count": 21,
      "outputs": [
        {
          "output_type": "stream",
          "name": "stdout",
          "text": [
            "4\n"
          ]
        }
      ]
    },
    {
      "cell_type": "code",
      "source": [
        "devices = {\n",
        "\"10-may-2021\" : \"laptop\" ,\n",
        "\"10-may-2022\" : \"disktop\" ,\n",
        "\"10-may-2023\" :\"mouse\"  ,\n",
        "\"10-may-2024\" :\"televetion\" ,\n",
        "\n",
        "}\n",
        "for key in devices :\n",
        "  print(key)"
      ],
      "metadata": {
        "colab": {
          "base_uri": "https://localhost:8080/"
        },
        "id": "2YU3Httzoa3D",
        "outputId": "47851a8c-de20-44b5-83ca-e9dcebb66e83"
      },
      "execution_count": 23,
      "outputs": [
        {
          "output_type": "stream",
          "name": "stdout",
          "text": [
            "10-may-2021\n",
            "10-may-2022\n",
            "10-may-2023\n",
            "10-may-2024\n"
          ]
        }
      ]
    },
    {
      "cell_type": "code",
      "source": [
        "devices = {\n",
        "\"10-may-2021\" : \"laptop\" ,\n",
        "\"10-may-2022\" : \"disktop\" ,\n",
        "\"10-may-2023\" :\"mouse\"  ,\n",
        "\"10-may-2024\" :\"televetion\" ,\n",
        "\n",
        "}\n",
        "for key in devices :\n",
        "  print(key, devices[key])"
      ],
      "metadata": {
        "colab": {
          "base_uri": "https://localhost:8080/"
        },
        "id": "twQtxFIAo_yr",
        "outputId": "2dc6fd46-13b7-4c11-e61f-e40f7b7e0293"
      },
      "execution_count": 27,
      "outputs": [
        {
          "output_type": "stream",
          "name": "stdout",
          "text": [
            "10-may-2021 laptop\n",
            "10-may-2022 disktop\n",
            "10-may-2023 mouse\n",
            "10-may-2024 televetion\n"
          ]
        }
      ]
    },
    {
      "cell_type": "code",
      "source": [
        "devices = {\n",
        "\"10-may-2021\" : \"laptop\" ,\n",
        "\"10-may-2022\" : \"disktop\" ,\n",
        "\"10-may-2023\" :\"mouse\"  ,\n",
        "\"10-may-2024\" :\"televetion\" ,\n",
        "\n",
        "}\n",
        "devices[\"31-may-2024\"] = \"telephone\"\n",
        "print(devices)\n"
      ],
      "metadata": {
        "colab": {
          "base_uri": "https://localhost:8080/"
        },
        "id": "PyuXzu-9qAZ2",
        "outputId": "98d16a1c-cfff-4293-be4e-b91abe1d593b"
      },
      "execution_count": 28,
      "outputs": [
        {
          "output_type": "stream",
          "name": "stdout",
          "text": [
            "{'10-may-2021': 'laptop', '10-may-2022': 'disktop', '10-may-2023': 'mouse', '10-may-2024': 'televetion', '31-may-2024': 'telephone'}\n"
          ]
        }
      ]
    },
    {
      "cell_type": "code",
      "source": [
        "devices = {\n",
        "\"10-may-2021\" : \"laptop\" ,\n",
        "\"10-may-2022\" : \"disktop\" ,\n",
        "\"10-may-2023\" :\"mouse\"  ,\n",
        "\"10-may-2024\" :\"televetion\" ,\n",
        "\n",
        "}\n",
        "devices[\"10-may-2024\"] = \"harddisk\"\n",
        "devices[\"15-november-2024\"] = \"mouse\"\n",
        "\n",
        "print(devices)"
      ],
      "metadata": {
        "colab": {
          "base_uri": "https://localhost:8080/"
        },
        "id": "L8IuTUR_q111",
        "outputId": "27c4d5b8-e515-43e9-fd1f-79e2de9c495d"
      },
      "execution_count": 38,
      "outputs": [
        {
          "output_type": "stream",
          "name": "stdout",
          "text": [
            "{'10-may-2021': 'laptop', '10-may-2022': 'disktop', '10-may-2023': 'mouse', '10-may-2024': 'harddisk', '15-november-2024': 'mouse'}\n"
          ]
        }
      ]
    },
    {
      "cell_type": "code",
      "source": [
        "devices = {\n",
        "\"10-may-2021\" : \"laptop\" ,\n",
        "\"15-may-2022\" : \"disktop\" ,\n",
        "\"10-may-2023\" :\"mouse\"  ,\n",
        "\"10-may-2024\" :\"televetion\" ,\n",
        "\n",
        "}\n",
        "del devices[\"15-may-2022\"]\n",
        "print(devices)\n",
        "\n"
      ],
      "metadata": {
        "colab": {
          "base_uri": "https://localhost:8080/"
        },
        "id": "iB_CeLhisSmm",
        "outputId": "c68ee82f-325b-4f4d-fdb4-41289ee5c71d"
      },
      "execution_count": 39,
      "outputs": [
        {
          "output_type": "stream",
          "name": "stdout",
          "text": [
            "{'10-may-2021': 'laptop', '10-may-2023': 'mouse', '10-may-2024': 'televetion'}\n"
          ]
        }
      ]
    },
    {
      "cell_type": "code",
      "source": [
        "devices = {\n",
        "\"10-may-2021\" : \"laptop\" ,\n",
        "\"15-may-2022\" : \"disktop\" ,\n",
        "\"10-may-2023\" :\"mouse\"  ,\n",
        "\"10-may-2024\" :\"televetion\" ,\n",
        "\n",
        "}\n",
        "print( \"11-may-2023\" in devices)\n"
      ],
      "metadata": {
        "colab": {
          "base_uri": "https://localhost:8080/"
        },
        "id": "8r7MsBrztGNQ",
        "outputId": "3231231a-7756-4ecf-82f6-1e7d2c4430d1"
      },
      "execution_count": 40,
      "outputs": [
        {
          "output_type": "stream",
          "name": "stdout",
          "text": [
            "False\n"
          ]
        }
      ]
    },
    {
      "cell_type": "code",
      "source": [
        "devices = {\n",
        "\"10-may-2021\" : \"laptop\" ,\n",
        "\"15-may-2022\" : \"disktop\" ,\n",
        "\"10-may-2023\" :\"mouse\"  ,\n",
        "\"10-may-2024\" :\"televetion\" ,\n",
        "\n",
        "}\n",
        "print( \"10-may-2023\" in devices)"
      ],
      "metadata": {
        "colab": {
          "base_uri": "https://localhost:8080/"
        },
        "id": "0qjFfDGCtXg6",
        "outputId": "e7e0d69d-8adc-47bb-e6db-25395687cd76"
      },
      "execution_count": 42,
      "outputs": [
        {
          "output_type": "stream",
          "name": "stdout",
          "text": [
            "True\n"
          ]
        }
      ]
    },
    {
      "cell_type": "code",
      "source": [
        "students = {\n",
        " 1 : \"keynaan\" ,\n",
        " 2 : \"abdi\" ,\n",
        " 3 : \"mohamed\"  ,\n",
        " 4 : \"farah\" ,\n",
        " 5 : \"mohamed\"\n",
        "\n",
        "}\n",
        "print(students)"
      ],
      "metadata": {
        "colab": {
          "base_uri": "https://localhost:8080/"
        },
        "id": "XFWm-LoPnxiQ",
        "outputId": "2333e09f-edb5-417f-98f3-c9ad8b3f77a1"
      },
      "execution_count": 25,
      "outputs": [
        {
          "output_type": "stream",
          "name": "stdout",
          "text": [
            "{1: 'keynaan', 2: 'abdi', 3: 'mohamed', 4: 'farah', 5: 'mohamed'}\n"
          ]
        }
      ]
    },
    {
      "cell_type": "code",
      "source": [
        "students[6] = \"jaama\"\n",
        "print(students)\n",
        "students[4] = \"abdirahman\"\n",
        "print(students)\n",
        "# Create a dictionary named 'devices' with date keys and corresponding device values\n",
        "devices = {\n",
        "    \"10-may-2021\": \"laptop\",\n",
        "    \"10-may-2022\": \"disktop\",\n",
        "    \"10-may-2023\": \"mouse\",\n",
        "    \"10-may-2024\": \"televetion\",\n",
        "}\n",
        "# Print all the values from the 'devices' dictionary\n",
        "print(devices.values())\n",
        "\n",
        "# Create the same dictionary 'devices' again\n",
        "devices = {\n",
        "    \"10-may-2021\": \"laptop\",\n",
        "    \"10-may-2022\": \"disktop\",\n",
        "    \"10-may-2023\": \"mouse\",\n",
        "    \"10-may-2024\": \"televetion\",\n",
        "}\n",
        "# Print all the keys from the 'devices' dictionary\n",
        "print(devices.keys())\n",
        "\n",
        "# Create the same dictionary 'devices' again\n",
        "devices = {\n",
        "    \"10-may-2021\": \"laptop\",\n",
        "    \"10-may-2022\": \"disktop\",\n",
        "    \"10-may-2023\": \"mouse\",\n",
        "    \"10-may-2024\": \"televetion\",\n",
        "}\n",
        "# Print the number of key-value pairs in the 'devices' dictionary\n",
        "print(len(devices))\n",
        "\n",
        "# Create the same dictionary 'devices' again\n",
        "devices = {\n",
        "    \"10-may-2021\": \"laptop\",\n",
        "    \"10-may-2022\": \"disktop\",\n",
        "    \"10-may-2023\": \"mouse\",\n",
        "    \"10-may-2024\": \"televetion\",\n",
        "}\n",
        "# Iterate through the dictionary and print each key\n",
        "for key in devices:\n",
        "    print(key)\n",
        "\n",
        "# Create the same dictionary 'devices' again\n",
        "devices = {\n",
        "    \"10-may-2021\": \"laptop\",\n",
        "    \"10-may-2022\": \"disktop\",\n",
        "    \"10-may-2023\": \"mouse\",\n",
        "    \"10-may-2024\": \"televetion\",\n",
        "}\n",
        "# Iterate through the dictionary and print both the key and its corresponding value\n",
        "for key in devices:\n",
        "    print(key, devices[key])\n",
        "\n",
        "# Create the same dictionary 'devices' again\n",
        "devices = {\n",
        "    \"10-may-2021\": \"laptop\",\n",
        "    \"10-may-2022\": \"disktop\",\n",
        "    \"10-may-2023\": \"mouse\",\n",
        "    \"10-may-2024\": \"televetion\",\n",
        "}\n",
        "# Add a new key-value pair \"31-may-2024\" : \"telephone\" to the dictionary\n",
        "devices[\"31-may-2024\"] = \"telephone\"\n",
        "# Print the updated dictionary\n",
        "print(devices)\n",
        "\n",
        "# Create the same dictionary 'devices' again\n",
        "devices = {\n",
        "    \"10-may-2021\": \"laptop\",\n",
        "    \"10-may-2022\": \"disktop\",\n",
        "    \"10-may-2023\": \"mouse\",\n",
        "    \"10-may-2024\": \"televetion\",\n",
        "}\n",
        "# Update the value for key \"10-may-2024\" to \"harddisk\" and add a new key-value pair \"15-november-2024\" : \"mouse\"\n",
        "devices[\"10-may-2024\"] = \"harddisk\"\n",
        "devices[\"15-november-2024\"] = \"mouse\"\n",
        "# Print the updated dictionary\n",
        "print(devices)\n",
        "\n",
        "# Create a dictionary with slightly different date keys\n",
        "devices = {\n",
        "    \"10-may-2021\": \"laptop\",\n",
        "    \"15-may-2022\": \"disktop\",\n",
        "    \"10-may-2023\": \"mouse\",\n",
        "    \"10-may-2024\": \"televetion\",\n",
        "}\n",
        "# Remove the key-value pair for \"15-may-2022\"\n",
        "del devices[\"15-may-2022\"]\n",
        "# Print the updated dictionary\n",
        "print(devices)\n",
        "\n",
        "# Create the same dictionary 'devices' again\n",
        "devices = {\n",
        "    \"10-may-2021\": \"laptop\",\n",
        "    \"15-may-2022\": \"disktop\",\n",
        "    \"10-may-2023\": \"mouse\",\n",
        "    \"10-may-2024\": \"televetion\",\n",
        "}\n",
        "# Check if the key \"11-may-2023\" exists in the dictionary and print the result (False expected)\n",
        "print(\"11-may-2023\" in devices)\n",
        "\n",
        "# Create the same dictionary 'devices' again\n",
        "devices = {\n",
        "    \"10-may-2021\": \"laptop\",\n",
        "    \"15-may-2022\": \"disktop\",\n",
        "    \"10-may-2023\": \"mouse\",\n",
        "    \"10-may-2024\": \"televetion\",\n",
        "}\n",
        "# Check if the key \"10-may-2023\" exists in the dictionary and print the result (True expected)\n",
        "print(\"10-may-2023\" in devices)\n",
        "\n",
        "# Create a dictionary named 'students' with student IDs as keys and names as values\n",
        "students = {\n",
        "    1: \"keynaan\",\n",
        "    2: \"abdi\",\n",
        "    3: \"mohamed\",\n",
        "    4: \"farah\",\n",
        "    5: \"mohamed\"\n",
        "}\n",
        "# Print the 'students' dictionary\n",
        "print(students)\n",
        "\n",
        "# Add a new student with ID 6 and name \"jaama\"\n",
        "students[6] = \"jaama\"\n",
        "# Print the updated 'students' dictionary\n",
        "print(students)\n",
        "\n",
        "# Update the student with ID 4 to have the name \"abdirahman\"\n",
        "students[4] = \"abdirahman\"\n",
        "# Print the updated 'students' dictionary\n",
        "print(students)\n",
        "\n",
        "\n",
        "\n",
        "\n"
      ],
      "metadata": {
        "colab": {
          "base_uri": "https://localhost:8080/"
        },
        "id": "0b0qu3-IGYda",
        "outputId": "c4682ae6-bbc2-47d0-e436-53ca7a40da56"
      },
      "execution_count": 30,
      "outputs": [
        {
          "output_type": "stream",
          "name": "stdout",
          "text": [
            "{1: 'keynaan', 2: 'abdi', 3: 'mohamed', 4: 'abdirahman', 5: 'mohamed', 6: 'jaama'}\n",
            "{1: 'keynaan', 2: 'abdi', 3: 'mohamed', 4: 'abdirahman', 5: 'mohamed', 6: 'jaama'}\n",
            "dict_values(['laptop', 'disktop', 'mouse', 'televetion'])\n",
            "dict_keys(['10-may-2021', '10-may-2022', '10-may-2023', '10-may-2024'])\n",
            "4\n",
            "10-may-2021\n",
            "10-may-2022\n",
            "10-may-2023\n",
            "10-may-2024\n",
            "10-may-2021 laptop\n",
            "10-may-2022 disktop\n",
            "10-may-2023 mouse\n",
            "10-may-2024 televetion\n",
            "{'10-may-2021': 'laptop', '10-may-2022': 'disktop', '10-may-2023': 'mouse', '10-may-2024': 'televetion', '31-may-2024': 'telephone'}\n",
            "{'10-may-2021': 'laptop', '10-may-2022': 'disktop', '10-may-2023': 'mouse', '10-may-2024': 'harddisk', '15-november-2024': 'mouse'}\n",
            "{'10-may-2021': 'laptop', '10-may-2023': 'mouse', '10-may-2024': 'televetion'}\n",
            "False\n",
            "True\n",
            "{1: 'keynaan', 2: 'abdi', 3: 'mohamed', 4: 'farah', 5: 'mohamed'}\n",
            "{1: 'keynaan', 2: 'abdi', 3: 'mohamed', 4: 'farah', 5: 'mohamed', 6: 'jaama'}\n",
            "{1: 'keynaan', 2: 'abdi', 3: 'mohamed', 4: 'abdirahman', 5: 'mohamed', 6: 'jaama'}\n"
          ]
        }
      ]
    }
  ]
}