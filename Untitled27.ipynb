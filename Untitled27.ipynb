{
  "nbformat": 4,
  "nbformat_minor": 0,
  "metadata": {
    "colab": {
      "provenance": [],
      "authorship_tag": "ABX9TyOgbDA8jlO+DKU6g5rdho0t",
      "include_colab_link": true
    },
    "kernelspec": {
      "name": "python3",
      "display_name": "Python 3"
    },
    "language_info": {
      "name": "python"
    }
  },
  "cells": [
    {
      "cell_type": "markdown",
      "metadata": {
        "id": "view-in-github",
        "colab_type": "text"
      },
      "source": [
        "<a href=\"https://colab.research.google.com/github/keynaan440/disk-cloning/blob/main/Untitled27.ipynb\" target=\"_parent\"><img src=\"https://colab.research.google.com/assets/colab-badge.svg\" alt=\"Open In Colab\"/></a>"
      ]
    },
    {
      "cell_type": "code",
      "execution_count": 6,
      "metadata": {
        "colab": {
          "base_uri": "https://localhost:8080/"
        },
        "id": "oYOtKBOssD7p",
        "outputId": "ab322a2f-8b1b-44f8-bf5d-0227efa4da8a"
      },
      "outputs": [
        {
          "output_type": "stream",
          "name": "stdout",
          "text": [
            "['geedi', 'qansax', 'qurax', 'maygaag']\n"
          ]
        }
      ],
      "source": [
        "#append fuction in python fuction\n",
        "names = [\"geedi\", \"qansax\", \"qurax\"]\n",
        "names.append(\"maygaag\")\n",
        "print(names)\n",
        "\n"
      ]
    }
  ]
}