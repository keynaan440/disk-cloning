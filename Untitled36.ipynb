{
  "nbformat": 4,
  "nbformat_minor": 0,
  "metadata": {
    "colab": {
      "provenance": [],
      "authorship_tag": "ABX9TyMCeHrnebkLO6NTi9Kk/s6L",
      "include_colab_link": true
    },
    "kernelspec": {
      "name": "python3",
      "display_name": "Python 3"
    },
    "language_info": {
      "name": "python"
    }
  },
  "cells": [
    {
      "cell_type": "markdown",
      "metadata": {
        "id": "view-in-github",
        "colab_type": "text"
      },
      "source": [
        "<a href=\"https://colab.research.google.com/github/keynaan440/disk-cloning/blob/main/Untitled36.ipynb\" target=\"_parent\"><img src=\"https://colab.research.google.com/assets/colab-badge.svg\" alt=\"Open In Colab\"/></a>"
      ]
    },
    {
      "cell_type": "code",
      "execution_count": 1,
      "metadata": {
        "colab": {
          "base_uri": "https://localhost:8080/"
        },
        "id": "jtar3Tq1awOd",
        "outputId": "a46f44bf-0acb-4d98-d754-69c8e98787ae"
      },
      "outputs": [
        {
          "output_type": "stream",
          "name": "stdout",
          "text": [
            "0\n"
          ]
        }
      ],
      "source": [
        "#most common function in string python, find, split, replace, swapcase, center, startswitch, endswitch, capitalase.\n",
        "\n",
        "\n",
        "#find function inpython\n",
        "name = \"keynaan abdi\"\n",
        "print(name.find(\"k\"))\n",
        "\n"
      ]
    },
    {
      "cell_type": "code",
      "source": [
        "#split function inpython\n",
        "name = \"keynaan abdi\"\n",
        "print(name.split())\n"
      ],
      "metadata": {
        "colab": {
          "base_uri": "https://localhost:8080/"
        },
        "id": "U6U-668EhEcQ",
        "outputId": "1e1bd211-5ad8-4a4c-8a52-5f6bd106227f"
      },
      "execution_count": 3,
      "outputs": [
        {
          "output_type": "stream",
          "name": "stdout",
          "text": [
            "['keynaan', 'abdi']\n"
          ]
        }
      ]
    },
    {
      "cell_type": "code",
      "source": [
        "#replace function inpython\n",
        "name = \"keynaan abdi\"\n",
        "print(name.replace('k','c'))\n"
      ],
      "metadata": {
        "colab": {
          "base_uri": "https://localhost:8080/"
        },
        "id": "x6rYFcCYhVAa",
        "outputId": "c2941bc4-4211-4341-bc5f-e7585cdf9fb5"
      },
      "execution_count": 5,
      "outputs": [
        {
          "output_type": "stream",
          "name": "stdout",
          "text": [
            "ceynaan abdi\n"
          ]
        }
      ]
    },
    {
      "cell_type": "code",
      "source": [
        "#find function inpython\n",
        "name = \"keynaan abdi\"\n",
        "print(name.swapcase())\n"
      ],
      "metadata": {
        "colab": {
          "base_uri": "https://localhost:8080/"
        },
        "id": "W9FEm55Hh52Z",
        "outputId": "4d0dfde8-0231-4663-a048-14f5fe2fe934"
      },
      "execution_count": 6,
      "outputs": [
        {
          "output_type": "stream",
          "name": "stdout",
          "text": [
            "KEYNAAN ABDI\n"
          ]
        }
      ]
    },
    {
      "cell_type": "code",
      "source": [
        "#find function inpython\n",
        "name = \"keynaan abdi\"\n",
        "print(name.endswith(\"k\"))\n"
      ],
      "metadata": {
        "colab": {
          "base_uri": "https://localhost:8080/"
        },
        "id": "pJqdj0KmiFxV",
        "outputId": "a5e245b5-1a8d-4ffb-acfe-c3cb009dfec0"
      },
      "execution_count": 8,
      "outputs": [
        {
          "output_type": "stream",
          "name": "stdout",
          "text": [
            "False\n"
          ]
        }
      ]
    },
    {
      "cell_type": "code",
      "source": [
        "#find function inpython\n",
        "value = input(\"enter your text\")\n",
        "print(value.swapcase())"
      ],
      "metadata": {
        "colab": {
          "base_uri": "https://localhost:8080/"
        },
        "id": "JA5PpVnEil4U",
        "outputId": "f43351e8-0cd4-4e05-9e1f-a38f845429c0"
      },
      "execution_count": 10,
      "outputs": [
        {
          "output_type": "stream",
          "name": "stdout",
          "text": [
            "enter your textwaa reer khalaf\n",
            "WAA REER KHALAF\n"
          ]
        }
      ]
    },
    {
      "cell_type": "code",
      "source": [
        "#capitalize function inpython\n",
        "name = \"guuleed\"\n",
        "print(name.capitalize())"
      ],
      "metadata": {
        "colab": {
          "base_uri": "https://localhost:8080/"
        },
        "id": "K9HJF2A5ixpG",
        "outputId": "e3c4a02d-5915-4a5d-ef02-b59cbeecdee8"
      },
      "execution_count": 14,
      "outputs": [
        {
          "output_type": "stream",
          "name": "stdout",
          "text": [
            "Guuleed\n"
          ]
        }
      ]
    },
    {
      "cell_type": "code",
      "source": [
        "#center function inpython\n",
        "name = \"keynaan \"\n",
        "print(name.center(100))"
      ],
      "metadata": {
        "colab": {
          "base_uri": "https://localhost:8080/"
        },
        "id": "efuAfjhUjaL3",
        "outputId": "4b9f9f69-dacb-4567-9770-235e24da667d"
      },
      "execution_count": 16,
      "outputs": [
        {
          "output_type": "stream",
          "name": "stdout",
          "text": [
            "                                              keynaan                                               \n"
          ]
        }
      ]
    },
    {
      "cell_type": "code",
      "source": [
        "#center function inpython\n",
        "name = \"keynaan \"\n",
        "print(name.startswith(\"k\"))"
      ],
      "metadata": {
        "colab": {
          "base_uri": "https://localhost:8080/"
        },
        "id": "dp-oySiuj66h",
        "outputId": "489a3798-5382-4864-ed59-3e8f0e5d8f4e"
      },
      "execution_count": 20,
      "outputs": [
        {
          "output_type": "stream",
          "name": "stdout",
          "text": [
            "True\n"
          ]
        }
      ]
    },
    {
      "cell_type": "code",
      "source": [
        "#center function inpython\n",
        "name = \"keynaan \"\n",
        "print(name.endswith(\"n\"))"
      ],
      "metadata": {
        "colab": {
          "base_uri": "https://localhost:8080/"
        },
        "id": "d3FrHPT4kT5O",
        "outputId": "2f42a571-6956-468a-9ab3-2bb6ccca8d5a"
      },
      "execution_count": 22,
      "outputs": [
        {
          "output_type": "stream",
          "name": "stdout",
          "text": [
            "False\n"
          ]
        }
      ]
    }
  ]
}