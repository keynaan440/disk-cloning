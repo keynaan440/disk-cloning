{
  "nbformat": 4,
  "nbformat_minor": 0,
  "metadata": {
    "colab": {
      "provenance": [],
      "authorship_tag": "ABX9TyN5Lo/XF0rrqK1AcQnF1Ys/",
      "include_colab_link": true
    },
    "kernelspec": {
      "name": "python3",
      "display_name": "Python 3"
    },
    "language_info": {
      "name": "python"
    }
  },
  "cells": [
    {
      "cell_type": "markdown",
      "metadata": {
        "id": "view-in-github",
        "colab_type": "text"
      },
      "source": [
        "<a href=\"https://colab.research.google.com/github/keynaan440/disk-cloning/blob/main/Untitled26.ipynb\" target=\"_parent\"><img src=\"https://colab.research.google.com/assets/colab-badge.svg\" alt=\"Open In Colab\"/></a>"
      ]
    },
    {
      "cell_type": "code",
      "execution_count": 1,
      "metadata": {
        "colab": {
          "base_uri": "https://localhost:8080/"
        },
        "id": "6qvhGhtYpX3F",
        "outputId": "0bc3698d-a261-40f9-c51a-3097e9201953"
      },
      "outputs": [
        {
          "output_type": "stream",
          "name": "stdout",
          "text": [
            "['noah', 'susuk', 'tiyoto', 100, 120, 220]\n"
          ]
        }
      ],
      "source": [
        "#extend fuction in python fuction\n",
        "cars = [\"noah\", \"susuk\", \"tiyoto\"]\n",
        "speeds = [100, 120, 220]\n",
        "cars.extend(speeds)\n",
        "print(cars)"
      ]
    }
  ]
}