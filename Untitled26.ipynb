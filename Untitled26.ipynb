{
  "nbformat": 4,
  "nbformat_minor": 0,
  "metadata": {
    "colab": {
      "provenance": [],
      "authorship_tag": "ABX9TyNT9WzQdvf0oAszbrDwaOFz",
      "include_colab_link": true
    },
    "kernelspec": {
      "name": "python3",
      "display_name": "Python 3"
    },
    "language_info": {
      "name": "python"
    }
  },
  "cells": [
    {
      "cell_type": "markdown",
      "metadata": {
        "id": "view-in-github",
        "colab_type": "text"
      },
      "source": [
        "<a href=\"https://colab.research.google.com/github/keynaan440/disk-cloning/blob/main/Untitled26.ipynb\" target=\"_parent\"><img src=\"https://colab.research.google.com/assets/colab-badge.svg\" alt=\"Open In Colab\"/></a>"
      ]
    },
    {
      "cell_type": "code",
      "execution_count": 3,
      "metadata": {
        "colab": {
          "base_uri": "https://localhost:8080/"
        },
        "id": "6qvhGhtYpX3F",
        "outputId": "cafb71c8-c5d7-4eef-81db-db516f9d5f5c"
      },
      "outputs": [
        {
          "output_type": "stream",
          "name": "stdout",
          "text": [
            "['noah', 'susuk', 'tiyoto', 'booyad', 'unblues']\n"
          ]
        }
      ],
      "source": [
        "#extend fuction in python fuction\n",
        "cars = [\"noah\", \"susuk\", \"tiyoto\"]\n",
        "cars.extend([\"booyad\", \"unblues\"])\n",
        "print(cars)"
      ]
    }
  ]
}