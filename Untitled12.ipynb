{
  "nbformat": 4,
  "nbformat_minor": 0,
  "metadata": {
    "colab": {
      "provenance": [],
      "authorship_tag": "ABX9TyOXxmWlVjr/NdbRAkzk5wIS",
      "include_colab_link": true
    },
    "kernelspec": {
      "name": "python3",
      "display_name": "Python 3"
    },
    "language_info": {
      "name": "python"
    }
  },
  "cells": [
    {
      "cell_type": "markdown",
      "metadata": {
        "id": "view-in-github",
        "colab_type": "text"
      },
      "source": [
        "<a href=\"https://colab.research.google.com/github/keynaan440/disk-cloning/blob/main/Untitled12.ipynb\" target=\"_parent\"><img src=\"https://colab.research.google.com/assets/colab-badge.svg\" alt=\"Open In Colab\"/></a>"
      ]
    },
    {
      "cell_type": "code",
      "execution_count": 14,
      "metadata": {
        "colab": {
          "base_uri": "https://localhost:8080/"
        },
        "id": "rwWUXF1fOBpz",
        "outputId": "894dcec6-60f6-4314-f80d-1a11d1354f33"
      },
      "outputs": [
        {
          "output_type": "stream",
          "name": "stdout",
          "text": [
            "=================================================\n",
            "                  keynaan program                \n",
            "=================================================\n",
            "enter your name: keynaan abdi ali\n",
            "enter your tripe: reer qansax\n",
            "enter your vilage: xagar waawareey\n",
            " my name is keynaan abdi ali my tripe is reer qansax my vilage is xagar waawareey\n",
            "enter your num177\n",
            "enter your num21\n",
            "78\n"
          ]
        }
      ],
      "source": [
        "print(\"=================================================\")\n",
        "print(\"                  keynaan program                \")\n",
        "print(\"=================================================\")\n",
        "name = input(\"enter your name: \")\n",
        "tripe = input(\"enter your tripe: \")\n",
        "vilage = input(\"enter your vilage: \")\n",
        "print(\" my name is \" + name + \" my tripe is \" + tripe + \" my vilage is \"+vilage)\n",
        "num1 = int(input(\"enter your num1\"))\n",
        "num2 = int(input(\"enter your num2\"))\n",
        "print(num1 + num2)\n",
        "\n"
      ]
    }
  ]
}