{
  "nbformat": 4,
  "nbformat_minor": 0,
  "metadata": {
    "colab": {
      "provenance": [],
      "authorship_tag": "ABX9TyOxKIpikC2oRrU8PhjWWnXX",
      "include_colab_link": true
    },
    "kernelspec": {
      "name": "python3",
      "display_name": "Python 3"
    },
    "language_info": {
      "name": "python"
    }
  },
  "cells": [
    {
      "cell_type": "markdown",
      "metadata": {
        "id": "view-in-github",
        "colab_type": "text"
      },
      "source": [
        "<a href=\"https://colab.research.google.com/github/keynaan440/disk-cloning/blob/main/Untitled8.ipynb\" target=\"_parent\"><img src=\"https://colab.research.google.com/assets/colab-badge.svg\" alt=\"Open In Colab\"/></a>"
      ]
    },
    {
      "cell_type": "code",
      "execution_count": 10,
      "metadata": {
        "colab": {
          "base_uri": "https://localhost:8080/"
        },
        "id": "WBoIgMuAAMPX",
        "outputId": "27e66e83-4347-4e4f-ffca-fb9d0f04dea8"
      },
      "outputs": [
        {
          "output_type": "stream",
          "name": "stdout",
          "text": [
            "False\n",
            "True\n",
            "True\n",
            "True\n",
            "True\n",
            "False\n"
          ]
        }
      ],
      "source": [
        "#logical operator\n",
        "x = 8\n",
        "y = 5\n",
        "z = 10\n",
        "n1 = 20\n",
        "print(not(n1 > 5 and n1 > 6 and n1 < 220))\n",
        "print(z > 5 and z > 6 and z < 220)\n",
        "print(z > 5 and z > 6 and z < 220)\n",
        "print(y > 4 or y > 10 or y == 3)\n",
        "print(x > 7 and x < 10)\n",
        "print(x > 10 and x < 8)"
      ]
    }
  ]
}