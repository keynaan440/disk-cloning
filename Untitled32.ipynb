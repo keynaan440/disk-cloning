{
  "nbformat": 4,
  "nbformat_minor": 0,
  "metadata": {
    "colab": {
      "provenance": [],
      "authorship_tag": "ABX9TyO+lp8dOfQ5S2EwYvxpOYzU",
      "include_colab_link": true
    },
    "kernelspec": {
      "name": "python3",
      "display_name": "Python 3"
    },
    "language_info": {
      "name": "python"
    }
  },
  "cells": [
    {
      "cell_type": "markdown",
      "metadata": {
        "id": "view-in-github",
        "colab_type": "text"
      },
      "source": [
        "<a href=\"https://colab.research.google.com/github/keynaan440/disk-cloning/blob/main/Untitled32.ipynb\" target=\"_parent\"><img src=\"https://colab.research.google.com/assets/colab-badge.svg\" alt=\"Open In Colab\"/></a>"
      ]
    },
    {
      "cell_type": "code",
      "execution_count": 1,
      "metadata": {
        "colab": {
          "base_uri": "https://localhost:8080/"
        },
        "id": "Q5hLSgINa82B",
        "outputId": "25c8fcae-efb0-4ad2-e076-25d2bd1cef01"
      },
      "outputs": [
        {
          "output_type": "stream",
          "name": "stdout",
          "text": [
            "[1, 2, 3, 4, 5, 6]\n"
          ]
        }
      ],
      "source": [
        "#blues fuction in python\n",
        "numbers1 = [1,2, 3]\n",
        "numbers2 = [4, 5,6]\n",
        "result = numbers1 + numbers2\n",
        "print(result)\n",
        "\n",
        "\n"
      ]
    },
    {
      "cell_type": "code",
      "source": [
        "#multiply fuction in pytho\n",
        "names = [\"keynaan\"]* 10\n",
        "print(names)\n"
      ],
      "metadata": {
        "colab": {
          "base_uri": "https://localhost:8080/"
        },
        "id": "Xa9AisEZbr0c",
        "outputId": "17d75f07-eb04-4992-9964-0df9aa484bd5"
      },
      "execution_count": 2,
      "outputs": [
        {
          "output_type": "stream",
          "name": "stdout",
          "text": [
            "['keynaan', 'keynaan', 'keynaan', 'keynaan', 'keynaan', 'keynaan', 'keynaan', 'keynaan', 'keynaan', 'keynaan']\n"
          ]
        }
      ]
    },
    {
      "cell_type": "code",
      "source": [
        "# \"in\" fuction in pytho\n",
        "names = [\"keynaan\", \"abdi\",\"mohamed\",\" farah\"]\n",
        "print(\" farah\" in names)"
      ],
      "metadata": {
        "colab": {
          "base_uri": "https://localhost:8080/"
        },
        "id": "bHZaCBbccZtp",
        "outputId": "fd60f53b-4a7d-4ece-8bbb-1171bb528d33"
      },
      "execution_count": 8,
      "outputs": [
        {
          "output_type": "stream",
          "name": "stdout",
          "text": [
            "True\n"
          ]
        }
      ]
    }
  ]
}