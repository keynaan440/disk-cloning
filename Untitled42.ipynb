{
  "nbformat": 4,
  "nbformat_minor": 0,
  "metadata": {
    "colab": {
      "provenance": [],
      "authorship_tag": "ABX9TyOvHBCtR4eDwHB3ayiKtt/y",
      "include_colab_link": true
    },
    "kernelspec": {
      "name": "python3",
      "display_name": "Python 3"
    },
    "language_info": {
      "name": "python"
    }
  },
  "cells": [
    {
      "cell_type": "markdown",
      "metadata": {
        "id": "view-in-github",
        "colab_type": "text"
      },
      "source": [
        "<a href=\"https://colab.research.google.com/github/keynaan440/disk-cloning/blob/main/Untitled42.ipynb\" target=\"_parent\"><img src=\"https://colab.research.google.com/assets/colab-badge.svg\" alt=\"Open In Colab\"/></a>"
      ]
    },
    {
      "cell_type": "code",
      "execution_count": 8,
      "metadata": {
        "colab": {
          "base_uri": "https://localhost:8080/"
        },
        "id": "6hyY-WRjAg03",
        "outputId": "ab464a50-6e89-4dfa-eff4-f2f938e0f16b"
      },
      "outputs": [
        {
          "output_type": "stream",
          "name": "stdout",
          "text": [
            "<__main__.person object at 0x7b24212e9ae0>\n"
          ]
        }
      ],
      "source": [
        "# Class in Python\n",
        "class person:\n",
        "  name = \"keynaan\"\n",
        "  gender = \"male \"\n",
        "  age = \" male\"\n",
        "  result = (\"Yy name is \", \"My gender is\", \"my age is \")\n",
        "  result = person()\n",
        "  print(result)\n",
        "\n",
        "\n"
      ]
    },
    {
      "cell_type": "code",
      "source": [
        "# Class in Python\n",
        "class Person:\n",
        "    name = \"Keynaan\"\n",
        "    gender = \"Male\"\n",
        "    age = 25\n",
        "\n",
        "# Create an instance of the Person class\n",
        "person_instance = Person()\n",
        "\n",
        "# Print the information of the class attributes\n",
        "print(f\"My name is {person_instance.name}, My gender is {person_instance.gender}, My age is {person_instance.age}\")\n"
      ],
      "metadata": {
        "colab": {
          "base_uri": "https://localhost:8080/"
        },
        "id": "7b8C6ZLwIwZa",
        "outputId": "7cf6e753-4a9f-4da9-9190-a7ee1a973588"
      },
      "execution_count": 10,
      "outputs": [
        {
          "output_type": "stream",
          "name": "stdout",
          "text": [
            "My name is Keynaan, My gender is Male, My age is 25\n"
          ]
        }
      ]
    },
    {
      "cell_type": "code",
      "source": [
        "class student:\n",
        "  studentname = \"keynaan\"\n",
        "  sduentId = 12234\n",
        "  studentphonenumber = 4835377\n",
        "  studentlocation = \"kampala\"\n",
        "x = student()\n",
        "print(x.studentphonenumber)\n",
        "\n",
        "\n",
        "\n"
      ],
      "metadata": {
        "colab": {
          "base_uri": "https://localhost:8080/"
        },
        "id": "ru95TDnKJgH7",
        "outputId": "2abcf3e2-06de-4dd0-e9a5-0bdd6f3cf6d6"
      },
      "execution_count": 11,
      "outputs": [
        {
          "output_type": "stream",
          "name": "stdout",
          "text": [
            "4835377\n"
          ]
        }
      ]
    },
    {
      "cell_type": "code",
      "source": [
        "class General:\n",
        "  # class attributes\n",
        "  General_Name = \"keynaan\"\n",
        "  General_Age = 25\n",
        "  General_Salary = \"$5000\"\n",
        "  General_Location = \"makarere kikoni\"\n",
        "\n",
        "  def work(self):\n",
        "    print(\"General is working at town\")\n",
        "\n",
        "# f means object\n",
        "g = General()\n",
        "print(g.General_Name)\n",
        "print(g.General_Age)\n",
        "print(g.General_Location)\n",
        "print(g.General_Salary)\n",
        "g.work()  # This will call the method and print the message\n"
      ],
      "metadata": {
        "colab": {
          "base_uri": "https://localhost:8080/"
        },
        "id": "JxAXlBu_xc5v",
        "outputId": "ddd32739-b2bf-49cd-d013-05c8e923d28f"
      },
      "execution_count": 18,
      "outputs": [
        {
          "output_type": "stream",
          "name": "stdout",
          "text": [
            "keynaan\n",
            "25\n",
            "makarere kikoni\n",
            "$5000\n",
            "General is working at town\n"
          ]
        }
      ]
    },
    {
      "cell_type": "code",
      "source": [
        "\n",
        "class home:\n",
        "  home_name = \"nifisa\"\n",
        "  home_address = 823\n",
        "  home_location = \"makarereb kikoni\"\n",
        "  home_rent = \"$300\"\n",
        "\n",
        "\n",
        "  def kitch(self):\n",
        "    print(\"lets go to the kitch\")\n",
        "x = home()\n",
        "print(x.home_name)\n",
        "x.kitch()"
      ],
      "metadata": {
        "colab": {
          "base_uri": "https://localhost:8080/"
        },
        "id": "2mKIIAk68WiW",
        "outputId": "07ab89db-778c-494a-a9c8-651038c4520a"
      },
      "execution_count": 21,
      "outputs": [
        {
          "output_type": "stream",
          "name": "stdout",
          "text": [
            "nifisa\n",
            "lets go to the kitch\n"
          ]
        }
      ]
    }
  ]
}