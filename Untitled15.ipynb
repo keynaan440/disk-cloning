{
  "nbformat": 4,
  "nbformat_minor": 0,
  "metadata": {
    "colab": {
      "provenance": [],
      "authorship_tag": "ABX9TyM4QE7Syv1+0+jtRVR50O69",
      "include_colab_link": true
    },
    "kernelspec": {
      "name": "python3",
      "display_name": "Python 3"
    },
    "language_info": {
      "name": "python"
    }
  },
  "cells": [
    {
      "cell_type": "markdown",
      "metadata": {
        "id": "view-in-github",
        "colab_type": "text"
      },
      "source": [
        "<a href=\"https://colab.research.google.com/github/keynaan440/disk-cloning/blob/main/Untitled15.ipynb\" target=\"_parent\"><img src=\"https://colab.research.google.com/assets/colab-badge.svg\" alt=\"Open In Colab\"/></a>"
      ]
    },
    {
      "cell_type": "code",
      "execution_count": 2,
      "metadata": {
        "colab": {
          "base_uri": "https://localhost:8080/"
        },
        "id": "cLd_MTJSxClt",
        "outputId": "52371b9f-3895-403c-9144-10631a9b7f70"
      },
      "outputs": [
        {
          "name": "stdout",
          "output_type": "stream",
          "text": [
            "did you passed the  mathmatical exam?no\n"
          ]
        }
      ],
      "source": [
        "passed = input(\"did you passed the  mathmatical exam?\")\n",
        "if passed == \"yes\":\n",
        "  print(\"masha allah, this is your a bicyle\")\n",
        "\n"
      ]
    },
    {
      "cell_type": "code",
      "source": [
        "age = int(input(\"write down your age :\"))\n",
        "if age == 25:\n",
        "  print(\"you will get your job\")\n",
        "else:\n",
        "  print(\"go away your home\")"
      ],
      "metadata": {
        "colab": {
          "base_uri": "https://localhost:8080/"
        },
        "id": "75udw2_wy3uC",
        "outputId": "fe757c1f-63ff-4ab2-fa54-1d94f3cde93f"
      },
      "execution_count": 13,
      "outputs": [
        {
          "output_type": "stream",
          "name": "stdout",
          "text": [
            "write down your age :25\n",
            "you will get your job\n"
          ]
        }
      ]
    },
    {
      "cell_type": "code",
      "source": [
        "speed = int(input(\"enter the speed of your car:\"))\n",
        "if speed > 100:\n",
        "  print(\"you will lose the lecence car is over\")\n",
        "elif speed == 100:\n",
        "    print(\"you will paying money\")\n",
        "else:\n",
        "  print(\"go head\")"
      ],
      "metadata": {
        "colab": {
          "base_uri": "https://localhost:8080/"
        },
        "id": "foezQaEa1WV7",
        "outputId": "b8659f9c-3c5e-4432-a8a4-90b7f058cf3d"
      },
      "execution_count": 23,
      "outputs": [
        {
          "output_type": "stream",
          "name": "stdout",
          "text": [
            "enter the speed of your car:100\n",
            "you will paying money\n"
          ]
        }
      ]
    }
  ]
}