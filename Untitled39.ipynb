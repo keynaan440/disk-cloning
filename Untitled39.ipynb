{
  "nbformat": 4,
  "nbformat_minor": 0,
  "metadata": {
    "colab": {
      "provenance": [],
      "authorship_tag": "ABX9TyMbP5tx0zqJBJv+GWmlpTOq",
      "include_colab_link": true
    },
    "kernelspec": {
      "name": "python3",
      "display_name": "Python 3"
    },
    "language_info": {
      "name": "python"
    }
  },
  "cells": [
    {
      "cell_type": "markdown",
      "metadata": {
        "id": "view-in-github",
        "colab_type": "text"
      },
      "source": [
        "<a href=\"https://colab.research.google.com/github/keynaan440/disk-cloning/blob/main/Untitled39.ipynb\" target=\"_parent\"><img src=\"https://colab.research.google.com/assets/colab-badge.svg\" alt=\"Open In Colab\"/></a>"
      ]
    },
    {
      "cell_type": "code",
      "execution_count": 15,
      "metadata": {
        "colab": {
          "base_uri": "https://localhost:8080/"
        },
        "id": "NZsDB8lKzRF0",
        "outputId": "08eb7258-7121-4c93-80a2-7794681b0b35"
      },
      "outputs": [
        {
          "output_type": "stream",
          "name": "stdout",
          "text": [
            "{'abdi', 'mohamed', 'keynaan'}\n",
            "<class 'set'>\n",
            "{True, 100, 200, 10, 14, 15, 22, 150, 'somali'}\n"
          ]
        }
      ],
      "source": [
        "  #create a set\n",
        "  numbers = {\"keynaan\",\"abdi\", \"mohamed\"}\n",
        "  print(numbers)\n",
        "  print(type(numbers))\n",
        "\n",
        "num.update([150, 200, \"somali\", True ])\n",
        "  print(num)\n"
      ]
    },
    {
      "cell_type": "code",
      "source": [
        "#adding one value in the set\n",
        "num = {10, 15,22, 14 }\n",
        "print(num)"
      ],
      "metadata": {
        "colab": {
          "base_uri": "https://localhost:8080/"
        },
        "id": "7RT4U0wN36gd",
        "outputId": "2e5d9359-1bda-491e-ab53-0765109b511a"
      },
      "execution_count": 26,
      "outputs": [
        {
          "output_type": "stream",
          "name": "stdout",
          "text": [
            "{10, 15, 14, 22}\n"
          ]
        }
      ]
    },
    {
      "cell_type": "code",
      "source": [
        "#adding two or more value in the set\n",
        "num = {10, 15,22, 14 }\n",
        "num.update([100, 100, \"somalia\", True])\n",
        "\n",
        "print(num)"
      ],
      "metadata": {
        "colab": {
          "base_uri": "https://localhost:8080/"
        },
        "id": "LYyg-t6M4AkD",
        "outputId": "d5348c57-faa6-47b3-ffa7-aa5f4eeba1d4"
      },
      "execution_count": 25,
      "outputs": [
        {
          "output_type": "stream",
          "name": "stdout",
          "text": [
            "{True, 100, 10, 14, 15, 22, 'somalia'}\n"
          ]
        }
      ]
    },
    {
      "cell_type": "code",
      "source": [
        "#deleting all vlue in the set\n",
        "student = {1, 20, 30, 40, 50,}\n",
        "student.clear()\n",
        "print(student)"
      ],
      "metadata": {
        "colab": {
          "base_uri": "https://localhost:8080/"
        },
        "id": "Q-LfYpxz4I4j",
        "outputId": "eaf287aa-e71c-4346-bc1b-3e9142e6a93f"
      },
      "execution_count": 40,
      "outputs": [
        {
          "output_type": "stream",
          "name": "stdout",
          "text": [
            "set()\n"
          ]
        }
      ]
    },
    {
      "cell_type": "code",
      "source": [
        "#copy variable set into another variable\n",
        "tripe1 = {\"reer-qansax\", \"reer-qurac\",\"rer-kampala\"}\n",
        "tripe2 =  tripe1.copy()\n",
        "print(tripe2)"
      ],
      "metadata": {
        "colab": {
          "base_uri": "https://localhost:8080/"
        },
        "id": "hCYAI8dk4TaP",
        "outputId": "e2c7b992-77f6-4a2c-9cd1-97514305fabe"
      },
      "execution_count": 41,
      "outputs": [
        {
          "output_type": "stream",
          "name": "stdout",
          "text": [
            "{'reer-qansax', 'rer-kampala', 'reer-qurac'}\n"
          ]
        }
      ]
    }
  ]
}