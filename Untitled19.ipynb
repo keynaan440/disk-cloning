{
  "nbformat": 4,
  "nbformat_minor": 0,
  "metadata": {
    "colab": {
      "provenance": [],
      "authorship_tag": "ABX9TyPXKRnxcXExImdnK9EyfV/+",
      "include_colab_link": true
    },
    "kernelspec": {
      "name": "python3",
      "display_name": "Python 3"
    },
    "language_info": {
      "name": "python"
    }
  },
  "cells": [
    {
      "cell_type": "markdown",
      "metadata": {
        "id": "view-in-github",
        "colab_type": "text"
      },
      "source": [
        "<a href=\"https://colab.research.google.com/github/keynaan440/disk-cloning/blob/main/Untitled19.ipynb\" target=\"_parent\"><img src=\"https://colab.research.google.com/assets/colab-badge.svg\" alt=\"Open In Colab\"/></a>"
      ]
    },
    {
      "cell_type": "code",
      "execution_count": 10,
      "metadata": {
        "colab": {
          "base_uri": "https://localhost:8080/"
        },
        "id": "PC0G3Iyg1Q4n",
        "outputId": "6b005a30-905b-41c8-8993-4091fde648be"
      },
      "outputs": [
        {
          "output_type": "stream",
          "name": "stdout",
          "text": [
            "enter your name  :institute of creativity and innavation\n",
            "institute of creativity and innavation\n",
            "institute of creativity and innavation\n",
            "institute of creativity and innavation\n",
            "institute of creativity and innavation\n",
            "institute of creativity and innavation\n",
            "institute of creativity and innavation\n",
            "institute of creativity and innavation\n",
            "institute of creativity and innavation\n",
            "institute of creativity and innavation\n",
            "institute of creativity and innavation\n",
            "institute of creativity and innavation\n",
            "institute of creativity and innavation\n",
            "institute of creativity and innavation\n",
            "institute of creativity and innavation\n",
            "institute of creativity and innavation\n",
            "institute of creativity and innavation\n",
            "institute of creativity and innavation\n",
            "institute of creativity and innavation\n",
            "institute of creativity and innavation\n",
            "institute of creativity and innavation\n"
          ]
        }
      ],
      "source": [
        "#python loop for, by input\n",
        "name = input(\"enter your name  :\")\n",
        "for k in range(20):\n",
        "  print(name)\n",
        "\n",
        "\n"
      ]
    }
  ]
}