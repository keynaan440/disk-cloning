{
  "nbformat": 4,
  "nbformat_minor": 0,
  "metadata": {
    "colab": {
      "provenance": [],
      "authorship_tag": "ABX9TyNjccZagmJzkc7z8EDUoh1e",
      "include_colab_link": true
    },
    "kernelspec": {
      "name": "python3",
      "display_name": "Python 3"
    },
    "language_info": {
      "name": "python"
    }
  },
  "cells": [
    {
      "cell_type": "markdown",
      "metadata": {
        "id": "view-in-github",
        "colab_type": "text"
      },
      "source": [
        "<a href=\"https://colab.research.google.com/github/keynaan440/disk-cloning/blob/main/Untitled19.ipynb\" target=\"_parent\"><img src=\"https://colab.research.google.com/assets/colab-badge.svg\" alt=\"Open In Colab\"/></a>"
      ]
    },
    {
      "cell_type": "code",
      "execution_count": 6,
      "metadata": {
        "colab": {
          "base_uri": "https://localhost:8080/"
        },
        "id": "PC0G3Iyg1Q4n",
        "outputId": "8007b9fe-c6a1-429d-9492-e8bcee99483d"
      },
      "outputs": [
        {
          "output_type": "stream",
          "name": "stdout",
          "text": [
            "keynaan\n",
            "keynaan\n",
            "keynaan\n",
            "keynaan\n",
            "keynaan\n",
            "keynaan \n",
            "keynaan \n",
            "keynaan \n",
            "keynaan \n",
            "keynaan \n",
            "keynaan \n",
            "keynaan \n",
            "keynaan \n",
            "keynaan \n",
            "keynaan \n"
          ]
        }
      ],
      "source": [
        "#python loop\n",
        "for x in range (5):\n",
        "  print(\"keynaan\")\n",
        "for i in range(10):\n",
        "  name = \"keynaan \"\n",
        "  print(name)\n",
        "\n"
      ]
    }
  ]
}