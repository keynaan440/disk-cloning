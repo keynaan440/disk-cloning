{
  "nbformat": 4,
  "nbformat_minor": 0,
  "metadata": {
    "colab": {
      "provenance": [],
      "authorship_tag": "ABX9TyMmEAqYiGPS2EA4bUDS5MOo",
      "include_colab_link": true
    },
    "kernelspec": {
      "name": "python3",
      "display_name": "Python 3"
    },
    "language_info": {
      "name": "python"
    }
  },
  "cells": [
    {
      "cell_type": "markdown",
      "metadata": {
        "id": "view-in-github",
        "colab_type": "text"
      },
      "source": [
        "<a href=\"https://colab.research.google.com/github/keynaan440/disk-cloning/blob/main/Untitled35.ipynb\" target=\"_parent\"><img src=\"https://colab.research.google.com/assets/colab-badge.svg\" alt=\"Open In Colab\"/></a>"
      ]
    },
    {
      "cell_type": "code",
      "execution_count": 2,
      "metadata": {
        "colab": {
          "base_uri": "https://localhost:8080/"
        },
        "id": "Sc8L--g5Eu4_",
        "outputId": "09e92e7c-5867-4a12-cccc-302190cdd18a"
      },
      "outputs": [
        {
          "output_type": "stream",
          "name": "stdout",
          "text": [
            "hello wolrd\n"
          ]
        }
      ],
      "source": [
        " #python string\n",
        "print(\"hello wolrd\")\n"
      ]
    },
    {
      "cell_type": "code",
      "source": [
        "#srting length in python\n",
        "name = (\"keynaan abdi mohamed\")\n",
        "print(len(name))"
      ],
      "metadata": {
        "colab": {
          "base_uri": "https://localhost:8080/"
        },
        "id": "1U_8xJw4T91D",
        "outputId": "cf4c612c-ccc6-4aeb-b532-064fb153c729"
      },
      "execution_count": 5,
      "outputs": [
        {
          "output_type": "stream",
          "name": "stdout",
          "text": [
            "20\n"
          ]
        }
      ]
    },
    {
      "cell_type": "code",
      "source": [
        "#check string in python\n",
        "text = \"the best things in life are free!\"\n",
        "if \"free\" in text:\n",
        "  print(\"yes, 'free' is present.\")"
      ],
      "metadata": {
        "colab": {
          "base_uri": "https://localhost:8080/"
        },
        "id": "_gh-lDjHUvqD",
        "outputId": "39394780-f80d-467e-9317-cbb27d4bf974"
      },
      "execution_count": 7,
      "outputs": [
        {
          "output_type": "stream",
          "name": "stdout",
          "text": [
            "yes, 'free' is present.\n"
          ]
        }
      ]
    },
    {
      "cell_type": "code",
      "source": [
        "name = \"keynaan abdi mohamed!\"\n",
        "if \"nafyar\"in name:\n",
        "  print(\"welcome \")\n",
        "else :\n",
        "    print(\"good bye\")\n"
      ],
      "metadata": {
        "colab": {
          "base_uri": "https://localhost:8080/"
        },
        "id": "FtL6CPZ2VXtW",
        "outputId": "0e313305-fb44-415d-dc4b-479023433ab1"
      },
      "execution_count": 11,
      "outputs": [
        {
          "output_type": "stream",
          "name": "stdout",
          "text": [
            "good bye\n"
          ]
        }
      ]
    },
    {
      "cell_type": "code",
      "source": [
        "#check if not in python\n",
        "students = \"mohamed \",\"ali\",\"abdi\",\"shamso\"\n",
        "if \"geele\" not in students:\n",
        "  print(\"kumajiro\")\n",
        "else :\n",
        "  print(\"waa kujiraa\")"
      ],
      "metadata": {
        "colab": {
          "base_uri": "https://localhost:8080/"
        },
        "id": "6xp9WX8jV8tL",
        "outputId": "0d4035eb-8464-49a7-b785-6ea43db708c5"
      },
      "execution_count": 12,
      "outputs": [
        {
          "output_type": "stream",
          "name": "stdout",
          "text": [
            "kumajiro\n"
          ]
        }
      ]
    },
    {
      "cell_type": "code",
      "source": [
        "#python string\n",
        "#srting length in python\n",
        "#check string in python\n",
        "#check if not in python"
      ],
      "metadata": {
        "id": "t3pGcd6kWwQ5"
      },
      "execution_count": null,
      "outputs": []
    }
  ]
}