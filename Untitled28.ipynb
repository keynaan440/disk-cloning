{
  "nbformat": 4,
  "nbformat_minor": 0,
  "metadata": {
    "colab": {
      "provenance": [],
      "authorship_tag": "ABX9TyNgEHzuYoJhiVJmWvT9Drh5",
      "include_colab_link": true
    },
    "kernelspec": {
      "name": "python3",
      "display_name": "Python 3"
    },
    "language_info": {
      "name": "python"
    }
  },
  "cells": [
    {
      "cell_type": "markdown",
      "metadata": {
        "id": "view-in-github",
        "colab_type": "text"
      },
      "source": [
        "<a href=\"https://colab.research.google.com/github/keynaan440/disk-cloning/blob/main/Untitled28.ipynb\" target=\"_parent\"><img src=\"https://colab.research.google.com/assets/colab-badge.svg\" alt=\"Open In Colab\"/></a>"
      ]
    },
    {
      "cell_type": "code",
      "execution_count": 3,
      "metadata": {
        "colab": {
          "base_uri": "https://localhost:8080/"
        },
        "id": "EDMS81ntuvBo",
        "outputId": "9148dd0c-09a2-4821-d951-dcee50600b44"
      },
      "outputs": [
        {
          "output_type": "stream",
          "name": "stdout",
          "text": [
            "['gamaadiid', 'gaaarhaye', 'geedi', 'guuleed']\n"
          ]
        }
      ],
      "source": [
        "#insert fuction in python\n",
        "students = [\"gamaadiid\",\"geedi\", \"guuleed\",]\n",
        "students.insert(1, \"gaaarhaye\")\n",
        "print(students)"
      ]
    }
  ]
}