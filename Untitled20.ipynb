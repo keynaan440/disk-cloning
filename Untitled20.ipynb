{
  "nbformat": 4,
  "nbformat_minor": 0,
  "metadata": {
    "colab": {
      "provenance": [],
      "authorship_tag": "ABX9TyNreQv/K69INWZ86MpKxfxJ",
      "include_colab_link": true
    },
    "kernelspec": {
      "name": "python3",
      "display_name": "Python 3"
    },
    "language_info": {
      "name": "python"
    }
  },
  "cells": [
    {
      "cell_type": "markdown",
      "metadata": {
        "id": "view-in-github",
        "colab_type": "text"
      },
      "source": [
        "<a href=\"https://colab.research.google.com/github/keynaan440/disk-cloning/blob/main/Untitled20.ipynb\" target=\"_parent\"><img src=\"https://colab.research.google.com/assets/colab-badge.svg\" alt=\"Open In Colab\"/></a>"
      ]
    },
    {
      "cell_type": "code",
      "execution_count": 2,
      "metadata": {
        "colab": {
          "base_uri": "https://localhost:8080/"
        },
        "id": "hFYP7_zb64Dr",
        "outputId": "469b92cc-bb47-47b3-8ab1-e160e0f464ee"
      },
      "outputs": [
        {
          "output_type": "stream",
          "name": "stdout",
          "text": [
            "institute of creativity and inavation \n",
            "institute of creativity and inavation \n",
            "institute of creativity and inavation \n",
            "institute of creativity and inavation \n",
            "institute of creativity and inavation \n",
            "institute of creativity and inavation \n",
            "institute of creativity and inavation \n",
            "institute of creativity and inavation \n",
            "institute of creativity and inavation \n",
            "institute of creativity and inavation \n",
            "institute of creativity and inavation \n",
            "institute of creativity and inavation \n",
            "institute of creativity and inavation \n",
            "institute of creativity and inavation \n",
            "institute of creativity and inavation \n",
            "institute of creativity and inavation \n",
            "institute of creativity and inavation \n",
            "institute of creativity and inavation \n",
            "institute of creativity and inavation \n",
            "institute of creativity and inavation \n"
          ]
        }
      ],
      "source": [
        "x = 1\n",
        "while x <= 20:\n",
        "  print(\"institute of creativity and inavation \")\n",
        "  x += 1"
      ]
    }
  ]
}