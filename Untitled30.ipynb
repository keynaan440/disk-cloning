{
  "nbformat": 4,
  "nbformat_minor": 0,
  "metadata": {
    "colab": {
      "provenance": [],
      "authorship_tag": "ABX9TyNqHj/nEZnfp2cgXKl3NkVd",
      "include_colab_link": true
    },
    "kernelspec": {
      "name": "python3",
      "display_name": "Python 3"
    },
    "language_info": {
      "name": "python"
    }
  },
  "cells": [
    {
      "cell_type": "markdown",
      "metadata": {
        "id": "view-in-github",
        "colab_type": "text"
      },
      "source": [
        "<a href=\"https://colab.research.google.com/github/keynaan440/disk-cloning/blob/main/Untitled30.ipynb\" target=\"_parent\"><img src=\"https://colab.research.google.com/assets/colab-badge.svg\" alt=\"Open In Colab\"/></a>"
      ]
    },
    {
      "cell_type": "code",
      "execution_count": 13,
      "metadata": {
        "colab": {
          "base_uri": "https://localhost:8080/"
        },
        "id": "T3jRYxReLRz3",
        "outputId": "858ea8fa-eb8a-41cd-9689-01be8e5fd241"
      },
      "outputs": [
        {
          "output_type": "stream",
          "name": "stdout",
          "text": [
            "['black', 'white', 'blue']\n"
          ]
        }
      ],
      "source": [
        "#copy list in python\n",
        "colors1 = [\"black\",\"white\",\"blue\",]\n",
        "colors2 = colors1.copy()\n",
        "print(colors1)"
      ]
    },
    {
      "cell_type": "code",
      "source": [
        "#count list in python\n",
        "fruits = [\"maango\", \"oronge\",\"banana\",\"maango\",\"oronge\",\"banana\" ]\n",
        "print(fruits.count(\"banana\" ))\n"
      ],
      "metadata": {
        "colab": {
          "base_uri": "https://localhost:8080/"
        },
        "id": "Nc8ErlGxOIUZ",
        "outputId": "82f53bc5-433e-4055-bd2f-da395cc4aecf"
      },
      "execution_count": 18,
      "outputs": [
        {
          "output_type": "stream",
          "name": "stdout",
          "text": [
            "2\n"
          ]
        }
      ]
    },
    {
      "cell_type": "code",
      "source": [
        "#reverse list in python\n",
        "fruits = [\"maango\", \"oronge\",\"banana\",\"maango\",\"oronge\",\"banana\" ]\n",
        "fruits.reverse()\n",
        "print(fruits)\n"
      ],
      "metadata": {
        "colab": {
          "base_uri": "https://localhost:8080/"
        },
        "id": "dDAK3uouPMZT",
        "outputId": "71b1eac7-b36c-4bfc-9236-41f68edbd4b2"
      },
      "execution_count": 19,
      "outputs": [
        {
          "output_type": "stream",
          "name": "stdout",
          "text": [
            "['banana', 'oronge', 'maango', 'banana', 'oronge', 'maango']\n"
          ]
        }
      ]
    },
    {
      "cell_type": "code",
      "source": [
        "#sort list in python\n",
        "fruits = [\"maango\", \"oronge\",\"banana\",\"maango\",\"oronge\",\"banana\" ]\n",
        "fruits.sort()\n",
        "print(fruits)"
      ],
      "metadata": {
        "colab": {
          "base_uri": "https://localhost:8080/"
        },
        "id": "_gaVELhSQbiP",
        "outputId": "340c1985-b904-4af6-d2e6-c90d190dd23a"
      },
      "execution_count": 23,
      "outputs": [
        {
          "output_type": "stream",
          "name": "stdout",
          "text": [
            "['banana', 'banana', 'maango', 'maango', 'oronge', 'oronge']\n"
          ]
        }
      ]
    }
  ]
}